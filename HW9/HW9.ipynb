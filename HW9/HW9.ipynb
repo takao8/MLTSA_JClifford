{
  "nbformat": 4,
  "nbformat_minor": 0,
  "metadata": {
    "colab": {
      "name": "HW9.ipynb",
      "provenance": [],
      "collapsed_sections": [
        "F2vvk0pnJzvF",
        "91UzF5ISKJlD",
        "DHM7nwgPZrVJ",
        "s5YlxrgJkguT",
        "YPmbZWmKkg0H",
        "HLbhvpcDkg8Q",
        "eM0Iu4BtkjAk"
      ],
      "authorship_tag": "ABX9TyNfIcCczr9Z7J8N1qMaPBpq",
      "include_colab_link": true
    },
    "kernelspec": {
      "name": "python3",
      "display_name": "Python 3"
    }
  },
  "cells": [
    {
      "cell_type": "markdown",
      "metadata": {
        "id": "view-in-github",
        "colab_type": "text"
      },
      "source": [
        "<a href=\"https://colab.research.google.com/github/takao8/MLTSA_JClifford/blob/master/HW9/HW9.ipynb\" target=\"_parent\"><img src=\"https://colab.research.google.com/assets/colab-badge.svg\" alt=\"Open In Colab\"/></a>"
      ]
    },
    {
      "cell_type": "markdown",
      "metadata": {
        "id": "_szhiRP0oZJX",
        "colab_type": "text"
      },
      "source": [
        "# HW9 PHYS667 by Jon Clifford"
      ]
    },
    {
      "cell_type": "markdown",
      "metadata": {
        "id": "Q0swh-N1r7sO",
        "colab_type": "text"
      },
      "source": [
        "In this notebook, we do similar to what we did in HW8, except we extract more features using the autoencoder.  Note that HW9 starts roughly halfway down this notebook--the beginning parts are the setup we used to extract features from the dataset. "
      ]
    },
    {
      "cell_type": "markdown",
      "metadata": {
        "id": "F2vvk0pnJzvF",
        "colab_type": "text"
      },
      "source": [
        "# Task 1: setup and Data Retrieval"
      ]
    },
    {
      "cell_type": "markdown",
      "metadata": {
        "id": "YzysVRdbJ2ZU",
        "colab_type": "text"
      },
      "source": [
        "This step is straightforward: I downloaded the dataset from kaggle, unzipped, and got them into colab with pandas.read_csv"
      ]
    },
    {
      "cell_type": "code",
      "metadata": {
        "id": "lnMsl1Eaz8z5",
        "colab_type": "code",
        "outputId": "08fc1287-63de-44a0-c95b-924e35d3bd3b",
        "colab": {
          "base_uri": "https://localhost:8080/",
          "height": 106
        }
      },
      "source": [
        "import json\n",
        "import os\n",
        "import pandas as pd\n",
        "import numpy as np\n",
        "import pylab as pl\n",
        "\n",
        "%pylab inline"
      ],
      "execution_count": 0,
      "outputs": [
        {
          "output_type": "stream",
          "text": [
            "Populating the interactive namespace from numpy and matplotlib\n"
          ],
          "name": "stdout"
        },
        {
          "output_type": "stream",
          "text": [
            "/usr/local/lib/python3.6/dist-packages/IPython/core/magics/pylab.py:161: UserWarning: pylab import has clobbered these variables: ['interp', 'hist', 'f']\n",
            "`%matplotlib` prevents importing * from pylab and numpy\n",
            "  \"\\n`%matplotlib` prevents importing * from pylab and numpy\"\n"
          ],
          "name": "stderr"
        }
      ]
    },
    {
      "cell_type": "code",
      "metadata": {
        "id": "XKAWjSUOJv9y",
        "colab_type": "code",
        "outputId": "f084ae57-d29e-4f38-d212-ff9879c69eb1",
        "colab": {
          "base_uri": "https://localhost:8080/",
          "height": 54
        }
      },
      "source": [
        "# mounting the google drive\n",
        "from google.colab import drive\n",
        "\n",
        "drive.mount(\"/content/gdrive\")"
      ],
      "execution_count": 0,
      "outputs": [
        {
          "output_type": "stream",
          "text": [
            "Drive already mounted at /content/gdrive; to attempt to forcibly remount, call drive.mount(\"/content/gdrive\", force_remount=True).\n"
          ],
          "name": "stdout"
        }
      ]
    },
    {
      "cell_type": "code",
      "metadata": {
        "id": "wC3YmNh2J69t",
        "colab_type": "code",
        "outputId": "0ae1e7a0-f045-4f24-be68-5ba964555d7d",
        "colab": {
          "base_uri": "https://localhost:8080/",
          "height": 52
        }
      },
      "source": [
        "# getting into the correst spot for the kaggle.json\n",
        "cd gdrive/My\\ Drive/"
      ],
      "execution_count": 0,
      "outputs": [
        {
          "output_type": "stream",
          "text": [
            "[Errno 2] No such file or directory: 'gdrive/My Drive/'\n",
            "/content/gdrive/My Drive/MLSTA1/HW5/data\n"
          ],
          "name": "stdout"
        }
      ]
    },
    {
      "cell_type": "code",
      "metadata": {
        "id": "HvelVtjCKCR7",
        "colab_type": "code",
        "outputId": "92ae7de1-d46f-4c63-88e9-0b68d8fde759",
        "colab": {
          "base_uri": "https://localhost:8080/",
          "height": 34
        }
      },
      "source": [
        "!chmod 600 kaggle.json"
      ],
      "execution_count": 0,
      "outputs": [
        {
          "output_type": "stream",
          "text": [
            "chmod: cannot access 'kaggle.json': No such file or directory\n"
          ],
          "name": "stdout"
        }
      ]
    },
    {
      "cell_type": "code",
      "metadata": {
        "id": "nMqgvADNKDmu",
        "colab_type": "code",
        "outputId": "8145cba2-bfa2-4fbc-94cf-4719cc1c9d0a",
        "colab": {
          "base_uri": "https://localhost:8080/",
          "height": 204
        }
      },
      "source": [
        "envs = json.load(open(\"kaggle.json\", \"r\"))       # opens our kaggle.json file\n",
        "os.environ[\"KAGGLE_USERNAME\"] = envs['username']   #gets our username from the json file\n",
        "os.environ[\"KAGGLE_KEY\"] = envs['key']     #gets our key"
      ],
      "execution_count": 0,
      "outputs": [
        {
          "output_type": "error",
          "ename": "FileNotFoundError",
          "evalue": "ignored",
          "traceback": [
            "\u001b[0;31m---------------------------------------------------------------------------\u001b[0m",
            "\u001b[0;31mFileNotFoundError\u001b[0m                         Traceback (most recent call last)",
            "\u001b[0;32m<ipython-input-61-19c3b38e8853>\u001b[0m in \u001b[0;36m<module>\u001b[0;34m()\u001b[0m\n\u001b[0;32m----> 1\u001b[0;31m \u001b[0menvs\u001b[0m \u001b[0;34m=\u001b[0m \u001b[0mjson\u001b[0m\u001b[0;34m.\u001b[0m\u001b[0mload\u001b[0m\u001b[0;34m(\u001b[0m\u001b[0mopen\u001b[0m\u001b[0;34m(\u001b[0m\u001b[0;34m\"kaggle.json\"\u001b[0m\u001b[0;34m,\u001b[0m \u001b[0;34m\"r\"\u001b[0m\u001b[0;34m)\u001b[0m\u001b[0;34m)\u001b[0m       \u001b[0;31m# opens our kaggle.json file\u001b[0m\u001b[0;34m\u001b[0m\u001b[0;34m\u001b[0m\u001b[0m\n\u001b[0m\u001b[1;32m      2\u001b[0m \u001b[0mos\u001b[0m\u001b[0;34m.\u001b[0m\u001b[0menviron\u001b[0m\u001b[0;34m[\u001b[0m\u001b[0;34m\"KAGGLE_USERNAME\"\u001b[0m\u001b[0;34m]\u001b[0m \u001b[0;34m=\u001b[0m \u001b[0menvs\u001b[0m\u001b[0;34m[\u001b[0m\u001b[0;34m'username'\u001b[0m\u001b[0;34m]\u001b[0m   \u001b[0;31m#gets our username from the json file\u001b[0m\u001b[0;34m\u001b[0m\u001b[0;34m\u001b[0m\u001b[0m\n\u001b[1;32m      3\u001b[0m \u001b[0mos\u001b[0m\u001b[0;34m.\u001b[0m\u001b[0menviron\u001b[0m\u001b[0;34m[\u001b[0m\u001b[0;34m\"KAGGLE_KEY\"\u001b[0m\u001b[0;34m]\u001b[0m \u001b[0;34m=\u001b[0m \u001b[0menvs\u001b[0m\u001b[0;34m[\u001b[0m\u001b[0;34m'key'\u001b[0m\u001b[0;34m]\u001b[0m     \u001b[0;31m#gets our key\u001b[0m\u001b[0;34m\u001b[0m\u001b[0;34m\u001b[0m\u001b[0m\n",
            "\u001b[0;31mFileNotFoundError\u001b[0m: [Errno 2] No such file or directory: 'kaggle.json'"
          ]
        }
      ]
    },
    {
      "cell_type": "code",
      "metadata": {
        "id": "-bOcGk2aKGVV",
        "colab_type": "code",
        "colab": {}
      },
      "source": [
        "cd MLSTA1/"
      ],
      "execution_count": 0,
      "outputs": []
    },
    {
      "cell_type": "code",
      "metadata": {
        "id": "4B58LJSMKLJs",
        "colab_type": "code",
        "colab": {}
      },
      "source": [
        "!mkdir HW5/"
      ],
      "execution_count": 0,
      "outputs": []
    },
    {
      "cell_type": "code",
      "metadata": {
        "id": "5BUuGHoNKZ95",
        "colab_type": "code",
        "colab": {}
      },
      "source": [
        "cd HW5/"
      ],
      "execution_count": 0,
      "outputs": []
    },
    {
      "cell_type": "code",
      "metadata": {
        "id": "4hZUlp5ZLDuQ",
        "colab_type": "code",
        "colab": {}
      },
      "source": [
        "cd data"
      ],
      "execution_count": 0,
      "outputs": []
    },
    {
      "cell_type": "code",
      "metadata": {
        "id": "4YoNbRQdKayf",
        "colab_type": "code",
        "colab": {}
      },
      "source": [
        "# now that we're in the directory we want, we'll download and unzip\n",
        "!kaggle competitions download -c PLAsTiCC-2018"
      ],
      "execution_count": 0,
      "outputs": []
    },
    {
      "cell_type": "code",
      "metadata": {
        "id": "8b9RLP1SKw80",
        "colab_type": "code",
        "colab": {}
      },
      "source": [
        "!ls"
      ],
      "execution_count": 0,
      "outputs": []
    },
    {
      "cell_type": "code",
      "metadata": {
        "id": "qeXzy8TcQ04C",
        "colab_type": "code",
        "colab": {}
      },
      "source": [
        "!unzip training_set.csv.zip"
      ],
      "execution_count": 0,
      "outputs": []
    },
    {
      "cell_type": "markdown",
      "metadata": {
        "id": "91UzF5ISKJlD",
        "colab_type": "text"
      },
      "source": [
        "# Task 2: Minor Data Preparation"
      ]
    },
    {
      "cell_type": "markdown",
      "metadata": {
        "id": "eR0_fUzdKTI5",
        "colab_type": "text"
      },
      "source": [
        "Now that the data is downlaoded, I'll read in the 2 csv files we need and do minor prep for the notebook ahead."
      ]
    },
    {
      "cell_type": "code",
      "metadata": {
        "id": "Zh6t_OFwRFHD",
        "colab_type": "code",
        "colab": {}
      },
      "source": [
        "lcvs = pd.read_csv(\"training_set.csv\")"
      ],
      "execution_count": 0,
      "outputs": []
    },
    {
      "cell_type": "code",
      "metadata": {
        "id": "BQltDzpwRGmJ",
        "colab_type": "code",
        "outputId": "a12e70d1-1b52-4e92-c2ad-9156b7595c85",
        "colab": {
          "base_uri": "https://localhost:8080/",
          "height": 34
        }
      },
      "source": [
        "print(\"The dataset contains: (observations, columns)\", lcvs.shape)"
      ],
      "execution_count": 0,
      "outputs": [
        {
          "output_type": "stream",
          "text": [
            "The dataset contains: (observations, columns) (1421705, 6)\n"
          ],
          "name": "stdout"
        }
      ]
    },
    {
      "cell_type": "code",
      "metadata": {
        "id": "qWj6q7fFRd7C",
        "colab_type": "code",
        "outputId": "9df16479-f844-4fcb-c7dc-10e0026b1ede",
        "colab": {
          "base_uri": "https://localhost:8080/",
          "height": 206
        }
      },
      "source": [
        "lcvs.head()"
      ],
      "execution_count": 0,
      "outputs": [
        {
          "output_type": "execute_result",
          "data": {
            "text/html": [
              "<div>\n",
              "<style scoped>\n",
              "    .dataframe tbody tr th:only-of-type {\n",
              "        vertical-align: middle;\n",
              "    }\n",
              "\n",
              "    .dataframe tbody tr th {\n",
              "        vertical-align: top;\n",
              "    }\n",
              "\n",
              "    .dataframe thead th {\n",
              "        text-align: right;\n",
              "    }\n",
              "</style>\n",
              "<table border=\"1\" class=\"dataframe\">\n",
              "  <thead>\n",
              "    <tr style=\"text-align: right;\">\n",
              "      <th></th>\n",
              "      <th>object_id</th>\n",
              "      <th>mjd</th>\n",
              "      <th>passband</th>\n",
              "      <th>flux</th>\n",
              "      <th>flux_err</th>\n",
              "      <th>detected</th>\n",
              "    </tr>\n",
              "  </thead>\n",
              "  <tbody>\n",
              "    <tr>\n",
              "      <th>0</th>\n",
              "      <td>615</td>\n",
              "      <td>59750.4229</td>\n",
              "      <td>2</td>\n",
              "      <td>-544.810303</td>\n",
              "      <td>3.622952</td>\n",
              "      <td>1</td>\n",
              "    </tr>\n",
              "    <tr>\n",
              "      <th>1</th>\n",
              "      <td>615</td>\n",
              "      <td>59750.4306</td>\n",
              "      <td>1</td>\n",
              "      <td>-816.434326</td>\n",
              "      <td>5.553370</td>\n",
              "      <td>1</td>\n",
              "    </tr>\n",
              "    <tr>\n",
              "      <th>2</th>\n",
              "      <td>615</td>\n",
              "      <td>59750.4383</td>\n",
              "      <td>3</td>\n",
              "      <td>-471.385529</td>\n",
              "      <td>3.801213</td>\n",
              "      <td>1</td>\n",
              "    </tr>\n",
              "    <tr>\n",
              "      <th>3</th>\n",
              "      <td>615</td>\n",
              "      <td>59750.4450</td>\n",
              "      <td>4</td>\n",
              "      <td>-388.984985</td>\n",
              "      <td>11.395031</td>\n",
              "      <td>1</td>\n",
              "    </tr>\n",
              "    <tr>\n",
              "      <th>4</th>\n",
              "      <td>615</td>\n",
              "      <td>59752.4070</td>\n",
              "      <td>2</td>\n",
              "      <td>-681.858887</td>\n",
              "      <td>4.041204</td>\n",
              "      <td>1</td>\n",
              "    </tr>\n",
              "  </tbody>\n",
              "</table>\n",
              "</div>"
            ],
            "text/plain": [
              "   object_id         mjd  passband        flux   flux_err  detected\n",
              "0        615  59750.4229         2 -544.810303   3.622952         1\n",
              "1        615  59750.4306         1 -816.434326   5.553370         1\n",
              "2        615  59750.4383         3 -471.385529   3.801213         1\n",
              "3        615  59750.4450         4 -388.984985  11.395031         1\n",
              "4        615  59752.4070         2 -681.858887   4.041204         1"
            ]
          },
          "metadata": {
            "tags": []
          },
          "execution_count": 13
        }
      ]
    },
    {
      "cell_type": "code",
      "metadata": {
        "id": "TkBdSKASZzpa",
        "colab_type": "code",
        "outputId": "047f9fe6-d7f7-484f-84c6-00fbf58394a9",
        "colab": {
          "base_uri": "https://localhost:8080/",
          "height": 34
        }
      },
      "source": [
        "bands = lcvs[\"passband\"].unique()\n",
        "print(\"Passbands (filter) identifiers:\", bands)"
      ],
      "execution_count": 0,
      "outputs": [
        {
          "output_type": "stream",
          "text": [
            "Passbands (filter) identifiers: [2 1 3 4 5 0]\n"
          ],
          "name": "stdout"
        }
      ]
    },
    {
      "cell_type": "code",
      "metadata": {
        "id": "DUFBWuFQZ1iL",
        "colab_type": "code",
        "outputId": "b4ca8fc4-4ce3-4bdb-9b53-33657fd45a1b",
        "colab": {
          "base_uri": "https://localhost:8080/",
          "height": 34
        }
      },
      "source": [
        "objects = lcvs[\"object_id\"].unique()\n",
        "print(\"There are {} astrophysical simulated objects in my dataset\".format(objects.shape[0]))"
      ],
      "execution_count": 0,
      "outputs": [
        {
          "output_type": "stream",
          "text": [
            "There are 7848 astrophysical simulated objects in my dataset\n"
          ],
          "name": "stdout"
        }
      ]
    },
    {
      "cell_type": "code",
      "metadata": {
        "id": "vBCEZigiRoIp",
        "colab_type": "code",
        "outputId": "91724204-07f2-423c-dbf1-8c4a167f80f4",
        "colab": {
          "base_uri": "https://localhost:8080/",
          "height": 226
        }
      },
      "source": [
        "metadata = pd.read_csv(\"training_set_metadata.csv\")\n",
        "metadata.head()"
      ],
      "execution_count": 0,
      "outputs": [
        {
          "output_type": "execute_result",
          "data": {
            "text/html": [
              "<div>\n",
              "<style scoped>\n",
              "    .dataframe tbody tr th:only-of-type {\n",
              "        vertical-align: middle;\n",
              "    }\n",
              "\n",
              "    .dataframe tbody tr th {\n",
              "        vertical-align: top;\n",
              "    }\n",
              "\n",
              "    .dataframe thead th {\n",
              "        text-align: right;\n",
              "    }\n",
              "</style>\n",
              "<table border=\"1\" class=\"dataframe\">\n",
              "  <thead>\n",
              "    <tr style=\"text-align: right;\">\n",
              "      <th></th>\n",
              "      <th>object_id</th>\n",
              "      <th>ra</th>\n",
              "      <th>decl</th>\n",
              "      <th>gal_l</th>\n",
              "      <th>gal_b</th>\n",
              "      <th>ddf</th>\n",
              "      <th>hostgal_specz</th>\n",
              "      <th>hostgal_photoz</th>\n",
              "      <th>hostgal_photoz_err</th>\n",
              "      <th>distmod</th>\n",
              "      <th>mwebv</th>\n",
              "      <th>target</th>\n",
              "    </tr>\n",
              "  </thead>\n",
              "  <tbody>\n",
              "    <tr>\n",
              "      <th>0</th>\n",
              "      <td>615</td>\n",
              "      <td>349.046051</td>\n",
              "      <td>-61.943836</td>\n",
              "      <td>320.796530</td>\n",
              "      <td>-51.753706</td>\n",
              "      <td>1</td>\n",
              "      <td>0.0000</td>\n",
              "      <td>0.0000</td>\n",
              "      <td>0.0000</td>\n",
              "      <td>NaN</td>\n",
              "      <td>0.017</td>\n",
              "      <td>92</td>\n",
              "    </tr>\n",
              "    <tr>\n",
              "      <th>1</th>\n",
              "      <td>713</td>\n",
              "      <td>53.085938</td>\n",
              "      <td>-27.784405</td>\n",
              "      <td>223.525509</td>\n",
              "      <td>-54.460748</td>\n",
              "      <td>1</td>\n",
              "      <td>1.8181</td>\n",
              "      <td>1.6267</td>\n",
              "      <td>0.2552</td>\n",
              "      <td>45.4063</td>\n",
              "      <td>0.007</td>\n",
              "      <td>88</td>\n",
              "    </tr>\n",
              "    <tr>\n",
              "      <th>2</th>\n",
              "      <td>730</td>\n",
              "      <td>33.574219</td>\n",
              "      <td>-6.579593</td>\n",
              "      <td>170.455585</td>\n",
              "      <td>-61.548219</td>\n",
              "      <td>1</td>\n",
              "      <td>0.2320</td>\n",
              "      <td>0.2262</td>\n",
              "      <td>0.0157</td>\n",
              "      <td>40.2561</td>\n",
              "      <td>0.021</td>\n",
              "      <td>42</td>\n",
              "    </tr>\n",
              "    <tr>\n",
              "      <th>3</th>\n",
              "      <td>745</td>\n",
              "      <td>0.189873</td>\n",
              "      <td>-45.586655</td>\n",
              "      <td>328.254458</td>\n",
              "      <td>-68.969298</td>\n",
              "      <td>1</td>\n",
              "      <td>0.3037</td>\n",
              "      <td>0.2813</td>\n",
              "      <td>1.1523</td>\n",
              "      <td>40.7951</td>\n",
              "      <td>0.007</td>\n",
              "      <td>90</td>\n",
              "    </tr>\n",
              "    <tr>\n",
              "      <th>4</th>\n",
              "      <td>1124</td>\n",
              "      <td>352.711273</td>\n",
              "      <td>-63.823658</td>\n",
              "      <td>316.922299</td>\n",
              "      <td>-51.059403</td>\n",
              "      <td>1</td>\n",
              "      <td>0.1934</td>\n",
              "      <td>0.2415</td>\n",
              "      <td>0.0176</td>\n",
              "      <td>40.4166</td>\n",
              "      <td>0.024</td>\n",
              "      <td>90</td>\n",
              "    </tr>\n",
              "  </tbody>\n",
              "</table>\n",
              "</div>"
            ],
            "text/plain": [
              "   object_id          ra       decl  ...  distmod  mwebv  target\n",
              "0        615  349.046051 -61.943836  ...      NaN  0.017      92\n",
              "1        713   53.085938 -27.784405  ...  45.4063  0.007      88\n",
              "2        730   33.574219  -6.579593  ...  40.2561  0.021      42\n",
              "3        745    0.189873 -45.586655  ...  40.7951  0.007      90\n",
              "4       1124  352.711273 -63.823658  ...  40.4166  0.024      90\n",
              "\n",
              "[5 rows x 12 columns]"
            ]
          },
          "metadata": {
            "tags": []
          },
          "execution_count": 16
        }
      ]
    },
    {
      "cell_type": "code",
      "metadata": {
        "id": "0xgv6Yr-ZcNN",
        "colab_type": "code",
        "outputId": "6f26f775-6506-4336-fb31-68e3f01aa569",
        "colab": {
          "base_uri": "https://localhost:8080/",
          "height": 69
        }
      },
      "source": [
        "metadata.columns"
      ],
      "execution_count": 0,
      "outputs": [
        {
          "output_type": "execute_result",
          "data": {
            "text/plain": [
              "Index(['object_id', 'ra', 'decl', 'gal_l', 'gal_b', 'ddf', 'hostgal_specz',\n",
              "       'hostgal_photoz', 'hostgal_photoz_err', 'distmod', 'mwebv', 'target'],\n",
              "      dtype='object')"
            ]
          },
          "metadata": {
            "tags": []
          },
          "execution_count": 17
        }
      ]
    },
    {
      "cell_type": "code",
      "metadata": {
        "id": "pvMmfd68ZmIz",
        "colab_type": "code",
        "outputId": "ac5ece69-ff7c-4cb4-9b18-2623b057d74b",
        "colab": {
          "base_uri": "https://localhost:8080/",
          "height": 34
        }
      },
      "source": [
        "print(\"The metadata dataset contains more information for each time series: (time-series, columns)\", metadata.shape)"
      ],
      "execution_count": 0,
      "outputs": [
        {
          "output_type": "stream",
          "text": [
            "The metadata dataset contains more information for each time series: (time-series, columns) (7848, 12)\n"
          ],
          "name": "stdout"
        }
      ]
    },
    {
      "cell_type": "markdown",
      "metadata": {
        "id": "DHM7nwgPZrVJ",
        "colab_type": "text"
      },
      "source": [
        "# Task 3: Data Visualization"
      ]
    },
    {
      "cell_type": "code",
      "metadata": {
        "id": "UZIgJmj1ZtV9",
        "colab_type": "code",
        "colab": {}
      },
      "source": [
        "norm_band = Normalize(vmin=bands.min(), vmax=bands.max())"
      ],
      "execution_count": 0,
      "outputs": []
    },
    {
      "cell_type": "code",
      "metadata": {
        "id": "nEohuD1oZ5lL",
        "colab_type": "code",
        "outputId": "c50b2777-074b-494c-a609-2fcfd75c47f2",
        "colab": {
          "base_uri": "https://localhost:8080/",
          "height": 1000
        }
      },
      "source": [
        "a = lcvs.loc[lcvs[\"object_id\"]==objects[0]]\n",
        "a.head()\n",
        "for o in [objects[0], objects[3], objects[5], objects[10], objects[11], 84716, \n",
        "          objects[12], objects[13], objects[14], objects[15]]:\n",
        "  for d in bands:\n",
        "    a = lcvs.loc[(lcvs[\"object_id\"]==o) & (lcvs[\"passband\"]==d)]\n",
        "    pl.errorbar(a[\"mjd\"], a[\"flux\"], yerr=a[\"flux_err\"], \n",
        "      color=[pl.cm.RdBu_r(Normalize(vmin=bands.min(), vmax=bands.max())(c)) for c in bands][d-1], \n",
        "      fmt='.', ms=10, mew=1)\n",
        "    pl.title(\"Object %s\" % o)\n",
        "    pl.ylabel(\"flux\")\n",
        "    pl.xlabel(\"mjd\")\n",
        "  pl.show()"
      ],
      "execution_count": 0,
      "outputs": [
        {
          "output_type": "display_data",
          "data": {
            "image/png": "[encoded data removed]",
            "text/plain": [
              "<Figure size 432x288 with 1 Axes>"
            ]
          },
          "metadata": {
            "tags": [],
            "needs_background": "light"
          }
        },
        {
          "output_type": "display_data",
          "data": {
            "image/png": "[encoded data removed]",
            "text/plain": [
              "<Figure size 432x288 with 1 Axes>"
            ]
          },
          "metadata": {
            "tags": [],
            "needs_background": "light"
          }
        },
        {
          "output_type": "display_data",
          "data": {
            "image/png": "[encoded data removed]",
            "text/plain": [
              "<Figure size 432x288 with 1 Axes>"
            ]
          },
          "metadata": {
            "tags": [],
            "needs_background": "light"
          }
        },
        {
          "output_type": "display_data",
          "data": {
            "image/png": "[encoded data removed]",
            "text/plain": [
              "<Figure size 432x288 with 1 Axes>"
            ]
          },
          "metadata": {
            "tags": [],
            "needs_background": "light"
          }
        },
        {
          "output_type": "display_data",
          "data": {
            "image/png": "[encoded data removed]",
            "text/plain": [
              "<Figure size 432x288 with 1 Axes>"
            ]
          },
          "metadata": {
            "tags": [],
            "needs_background": "light"
          }
        },
        {
          "output_type": "display_data",
          "data": {
            "image/png": "[encoded data removed]",
            "text/plain": [
              "<Figure size 432x288 with 1 Axes>"
            ]
          },
          "metadata": {
            "tags": [],
            "needs_background": "light"
          }
        },
        {
          "output_type": "display_data",
          "data": {
            "image/png": "[encoded data removed]",
            "text/plain": [
              "<Figure size 432x288 with 1 Axes>"
            ]
          },
          "metadata": {
            "tags": [],
            "needs_background": "light"
          }
        },
        {
          "output_type": "display_data",
          "data": {
            "image/png": "[encoded data removed]",
            "text/plain": [
              "<Figure size 432x288 with 1 Axes>"
            ]
          },
          "metadata": {
            "tags": [],
            "needs_background": "light"
          }
        },
        {
          "output_type": "display_data",
          "data": {
            "image/png": "[encoded data removed]",
            "text/plain": [
              "<Figure size 432x288 with 1 Axes>"
            ]
          },
          "metadata": {
            "tags": [],
            "needs_background": "light"
          }
        },
        {
          "output_type": "display_data",
          "data": {
            "image/png": "[encoded data removed]",
            "text/plain": [
              "<Figure size 432x288 with 1 Axes>"
            ]
          },
          "metadata": {
            "tags": [],
            "needs_background": "light"
          }
        }
      ]
    },
    {
      "cell_type": "markdown",
      "metadata": {
        "id": "OX69EBdIAjCP",
        "colab_type": "text"
      },
      "source": [
        "Figure 1: Time series plots of multiple objects and their flux and errors.  Note that the x-axis is time, represented by the label mjd.  Note also the colorcode indicates which band each datapoint is in: points that are more red are in lower bands, while points that are more blue are in higher bands.  Significant clustering appears in all plots, one such example in Object 2103, showing the 3 clusters along flux=0 along with a cluster directed upwards at around mjd=60250."
      ]
    },
    {
      "cell_type": "markdown",
      "metadata": {
        "id": "QZjhdrSfjy1m",
        "colab_type": "text"
      },
      "source": [
        "# Task 4: Extract Features"
      ]
    },
    {
      "cell_type": "markdown",
      "metadata": {
        "id": "s5YlxrgJkguT",
        "colab_type": "text"
      },
      "source": [
        "# 4.1"
      ]
    },
    {
      "cell_type": "markdown",
      "metadata": {
        "id": "_AZ7-85ZqfPp",
        "colab_type": "text"
      },
      "source": [
        "After finishing this homework, I realize I wish I had more time to work on this and the t-SNE, but for this week I don't, so I only added the minimum 6 variables needed.  They are:"
      ]
    },
    {
      "cell_type": "markdown",
      "metadata": {
        "id": "rIn1EtPHIlke",
        "colab_type": "text"
      },
      "source": [
        "Original lightcurve: 3rd (skewness) and 4th (kurtosis) moments.  Like mean and variance, moments are always useful to have for a dataset.  They are continuous and are unbounded."
      ]
    },
    {
      "cell_type": "markdown",
      "metadata": {
        "id": "snNpPwDPIpgE",
        "colab_type": "text"
      },
      "source": [
        "Standardized lightcurve: median, straight line fit.  Median is a good indicatior of the middle of the dataset when significant outliers exist, and will exist as a positive and (potentially) unbounded variable.  The line fit statistics are always useful--the slope and intercept can also technically be unbounded, but they will come as two separate variables.\n"
      ]
    },
    {
      "cell_type": "markdown",
      "metadata": {
        "id": "xzj8T03AIruB",
        "colab_type": "text"
      },
      "source": [
        "Metadata: decl, ddf.  decl indicates the position in the sky, and is potentially unbounded. ddf is a binary variable, indicating the type of survey used for the data."
      ]
    },
    {
      "cell_type": "markdown",
      "metadata": {
        "id": "YPmbZWmKkg0H",
        "colab_type": "text"
      },
      "source": [
        "# 4.2 - Extracting from the Original Lightcurve"
      ]
    },
    {
      "cell_type": "markdown",
      "metadata": {
        "id": "-kuY5WmLJEHc",
        "colab_type": "text"
      },
      "source": [
        "Here we'll extract the 3rd and 4th moments from the standard lightcurve.  I realize that getting the other statistics are straightforward, but for the interest of time I only got those 2."
      ]
    },
    {
      "cell_type": "code",
      "metadata": {
        "id": "pLDd0jbKvDdU",
        "colab_type": "code",
        "colab": {}
      },
      "source": [
        "from scipy import stats \n",
        "def m3(x):   # skewness\n",
        "    return stats.moment(x, moment = 3)\n",
        "def m4(x):   # kurtosis\n",
        "    return stats.moment(x, moment = 4)\n",
        "mom3 = lcvs.groupby([\"object_id\", \"passband\"]).flux.apply(m3)\n",
        "mom4 = lcvs.groupby([\"object_id\", \"passband\"]).flux.apply(m4)"
      ],
      "execution_count": 0,
      "outputs": []
    },
    {
      "cell_type": "code",
      "metadata": {
        "id": "SsZH8vh_zA4P",
        "colab_type": "code",
        "outputId": "3cb90478-66e7-4096-de6e-f3e031eb89c0",
        "colab": {
          "base_uri": "https://localhost:8080/",
          "height": 237
        }
      },
      "source": [
        "#pd.DataFrame(mom4).rename({\"flux\": \"m3\"}, axis=1)\n",
        "features = pd.concat([mom3, mom4], axis=1)\n",
        "features.columns=[\"m3\", \"m4\"]\n",
        "features.head()"
      ],
      "execution_count": 0,
      "outputs": [
        {
          "output_type": "execute_result",
          "data": {
            "text/html": [
              "<div>\n",
              "<style scoped>\n",
              "    .dataframe tbody tr th:only-of-type {\n",
              "        vertical-align: middle;\n",
              "    }\n",
              "\n",
              "    .dataframe tbody tr th {\n",
              "        vertical-align: top;\n",
              "    }\n",
              "\n",
              "    .dataframe thead th {\n",
              "        text-align: right;\n",
              "    }\n",
              "</style>\n",
              "<table border=\"1\" class=\"dataframe\">\n",
              "  <thead>\n",
              "    <tr style=\"text-align: right;\">\n",
              "      <th></th>\n",
              "      <th></th>\n",
              "      <th>m3</th>\n",
              "      <th>m4</th>\n",
              "    </tr>\n",
              "    <tr>\n",
              "      <th>object_id</th>\n",
              "      <th>passband</th>\n",
              "      <th></th>\n",
              "      <th></th>\n",
              "    </tr>\n",
              "  </thead>\n",
              "  <tbody>\n",
              "    <tr>\n",
              "      <th rowspan=\"5\" valign=\"top\">615</th>\n",
              "      <th>0</th>\n",
              "      <td>7.266579e+04</td>\n",
              "      <td>7.433032e+07</td>\n",
              "    </tr>\n",
              "    <tr>\n",
              "      <th>1</th>\n",
              "      <td>8.593916e+07</td>\n",
              "      <td>2.215166e+11</td>\n",
              "    </tr>\n",
              "    <tr>\n",
              "      <th>2</th>\n",
              "      <td>3.040627e+07</td>\n",
              "      <td>6.659406e+10</td>\n",
              "    </tr>\n",
              "    <tr>\n",
              "      <th>3</th>\n",
              "      <td>1.049664e+07</td>\n",
              "      <td>1.919999e+10</td>\n",
              "    </tr>\n",
              "    <tr>\n",
              "      <th>4</th>\n",
              "      <td>4.717542e+06</td>\n",
              "      <td>1.036570e+10</td>\n",
              "    </tr>\n",
              "  </tbody>\n",
              "</table>\n",
              "</div>"
            ],
            "text/plain": [
              "                              m3            m4\n",
              "object_id passband                            \n",
              "615       0         7.266579e+04  7.433032e+07\n",
              "          1         8.593916e+07  2.215166e+11\n",
              "          2         3.040627e+07  6.659406e+10\n",
              "          3         1.049664e+07  1.919999e+10\n",
              "          4         4.717542e+06  1.036570e+10"
            ]
          },
          "metadata": {
            "tags": []
          },
          "execution_count": 22
        }
      ]
    },
    {
      "cell_type": "markdown",
      "metadata": {
        "id": "HLbhvpcDkg8Q",
        "colab_type": "text"
      },
      "source": [
        "# 4.3 - Standardizing Lightcurve and Extracting Features"
      ]
    },
    {
      "cell_type": "markdown",
      "metadata": {
        "id": "kCsM2xXMIKmX",
        "colab_type": "text"
      },
      "source": [
        "In this step, we standardize the dataset using groupby and apply, then add our median and linfit statistics."
      ]
    },
    {
      "cell_type": "code",
      "metadata": {
        "id": "t2RlS98QlLuQ",
        "colab_type": "code",
        "colab": {}
      },
      "source": [
        "lcvs[\"fluxnormed\"] = 0."
      ],
      "execution_count": 0,
      "outputs": []
    },
    {
      "cell_type": "code",
      "metadata": {
        "id": "N3APfdvplMnO",
        "colab_type": "code",
        "colab": {}
      },
      "source": [
        "def normed(df):\n",
        "   df[\"fluxnormed\"] = (df.flux - df.mean().flux)/df.std().flux\n",
        "   return df\n",
        "lcvsnorm = lcvs.groupby([\"object_id\", \"passband\"]).apply(normed)"
      ],
      "execution_count": 0,
      "outputs": []
    },
    {
      "cell_type": "code",
      "metadata": {
        "id": "Z4CWhwodlcEF",
        "colab_type": "code",
        "outputId": "3f09f3df-8a9a-47a9-92e2-5bdeb6bf6e05",
        "colab": {
          "base_uri": "https://localhost:8080/",
          "height": 295
        }
      },
      "source": [
        "for d in bands:\n",
        "    a = lcvsnorm.loc[(lcvsnorm[\"object_id\"]==615) & (lcvsnorm[\"passband\"]==d)]\n",
        "    pl.errorbar(a[\"mjd\"], a[\"fluxnormed\"], \n",
        "      color=[pl.cm.RdBu_r(Normalize(vmin=bands.min(), vmax=bands.max())(c)) for c in bands][d-1], \n",
        "      fmt='.', ms=10, mew=1)\n",
        "    pl.title(\"Object 615\")\n",
        "    pl.ylabel(\"flux\")\n",
        "    pl.xlabel(\"mjd\")\n",
        "pl.show()"
      ],
      "execution_count": 0,
      "outputs": [
        {
          "output_type": "display_data",
          "data": {
            "image/png": "[encoded data removed]",
            "text/plain": [
              "<Figure size 432x288 with 1 Axes>"
            ]
          },
          "metadata": {
            "tags": [],
            "needs_background": "light"
          }
        }
      ]
    },
    {
      "cell_type": "markdown",
      "metadata": {
        "id": "iUQQVq9bqGrc",
        "colab_type": "text"
      },
      "source": [
        "Figure 2: Verification normalization worked.  Comparison to the same object in Figure 1 confirms the same shape with different magnitude.  I couldn't figure out why the colors didn't match, but the shapes do match and for purposes of the notebook is all that matters."
      ]
    },
    {
      "cell_type": "code",
      "metadata": {
        "id": "RYFLkD55xUQ3",
        "colab_type": "code",
        "colab": {}
      },
      "source": [
        "medians = lcvsnorm.groupby([\"object_id\", \"passband\"])[[\"fluxnormed\"]].median()\n",
        "features[\"medians\"] = medians"
      ],
      "execution_count": 0,
      "outputs": []
    },
    {
      "cell_type": "code",
      "metadata": {
        "id": "8udxvAz6xqXI",
        "colab_type": "code",
        "colab": {}
      },
      "source": [
        "def linfit(x):\n",
        "    pars = np.polyfit(range(len(x)), x[\"fluxnormed\"].values, 1)\n",
        "    return pars\n",
        "linfits = lcvsnorm.groupby([\"object_id\", \"passband\"]).apply(linfit)"
      ],
      "execution_count": 0,
      "outputs": []
    },
    {
      "cell_type": "code",
      "metadata": {
        "id": "BBxD7NWI0w_b",
        "colab_type": "code",
        "colab": {}
      },
      "source": [
        "slopes = [x[0] for x in linfits.values[:]]\n",
        "intercepts = [x[1] for x in linfits.values[:]]\n",
        "features[\"slopes\"] = slopes\n",
        "features[\"intercepts\"] = intercepts"
      ],
      "execution_count": 0,
      "outputs": []
    },
    {
      "cell_type": "code",
      "metadata": {
        "id": "OVbXDLnQ1Wo6",
        "colab_type": "code",
        "outputId": "690c9ebe-1137-4087-faf1-b52aa07f7a1d",
        "colab": {
          "base_uri": "https://localhost:8080/",
          "height": 237
        }
      },
      "source": [
        "features.head()"
      ],
      "execution_count": 0,
      "outputs": [
        {
          "output_type": "execute_result",
          "data": {
            "text/html": [
              "<div>\n",
              "<style scoped>\n",
              "    .dataframe tbody tr th:only-of-type {\n",
              "        vertical-align: middle;\n",
              "    }\n",
              "\n",
              "    .dataframe tbody tr th {\n",
              "        vertical-align: top;\n",
              "    }\n",
              "\n",
              "    .dataframe thead th {\n",
              "        text-align: right;\n",
              "    }\n",
              "</style>\n",
              "<table border=\"1\" class=\"dataframe\">\n",
              "  <thead>\n",
              "    <tr style=\"text-align: right;\">\n",
              "      <th></th>\n",
              "      <th></th>\n",
              "      <th>m3</th>\n",
              "      <th>m4</th>\n",
              "      <th>medians</th>\n",
              "      <th>slopes</th>\n",
              "      <th>intercepts</th>\n",
              "    </tr>\n",
              "    <tr>\n",
              "      <th>object_id</th>\n",
              "      <th>passband</th>\n",
              "      <th></th>\n",
              "      <th></th>\n",
              "      <th></th>\n",
              "      <th></th>\n",
              "      <th></th>\n",
              "    </tr>\n",
              "  </thead>\n",
              "  <tbody>\n",
              "    <tr>\n",
              "      <th rowspan=\"5\" valign=\"top\">615</th>\n",
              "      <th>0</th>\n",
              "      <td>7.266579e+04</td>\n",
              "      <td>7.433032e+07</td>\n",
              "      <td>-0.080537</td>\n",
              "      <td>0.005676</td>\n",
              "      <td>-0.175947</td>\n",
              "    </tr>\n",
              "    <tr>\n",
              "      <th>1</th>\n",
              "      <td>8.593916e+07</td>\n",
              "      <td>2.215166e+11</td>\n",
              "      <td>-0.170090</td>\n",
              "      <td>0.014032</td>\n",
              "      <td>-0.399902</td>\n",
              "    </tr>\n",
              "    <tr>\n",
              "      <th>2</th>\n",
              "      <td>3.040627e+07</td>\n",
              "      <td>6.659406e+10</td>\n",
              "      <td>-0.289021</td>\n",
              "      <td>0.017676</td>\n",
              "      <td>-0.503760</td>\n",
              "    </tr>\n",
              "    <tr>\n",
              "      <th>3</th>\n",
              "      <td>1.049664e+07</td>\n",
              "      <td>1.919999e+10</td>\n",
              "      <td>-0.122434</td>\n",
              "      <td>0.020475</td>\n",
              "      <td>-0.583524</td>\n",
              "    </tr>\n",
              "    <tr>\n",
              "      <th>4</th>\n",
              "      <td>4.717542e+06</td>\n",
              "      <td>1.036570e+10</td>\n",
              "      <td>-0.163078</td>\n",
              "      <td>0.022343</td>\n",
              "      <td>-0.636786</td>\n",
              "    </tr>\n",
              "  </tbody>\n",
              "</table>\n",
              "</div>"
            ],
            "text/plain": [
              "                              m3            m4   medians    slopes  intercepts\n",
              "object_id passband                                                            \n",
              "615       0         7.266579e+04  7.433032e+07 -0.080537  0.005676   -0.175947\n",
              "          1         8.593916e+07  2.215166e+11 -0.170090  0.014032   -0.399902\n",
              "          2         3.040627e+07  6.659406e+10 -0.289021  0.017676   -0.503760\n",
              "          3         1.049664e+07  1.919999e+10 -0.122434  0.020475   -0.583524\n",
              "          4         4.717542e+06  1.036570e+10 -0.163078  0.022343   -0.636786"
            ]
          },
          "metadata": {
            "tags": []
          },
          "execution_count": 29
        }
      ]
    },
    {
      "cell_type": "markdown",
      "metadata": {
        "id": "_JSzQ1BVITLr",
        "colab_type": "text"
      },
      "source": [
        "Thus we verify that our statistics are added correctly."
      ]
    },
    {
      "cell_type": "markdown",
      "metadata": {
        "id": "eM0Iu4BtkjAk",
        "colab_type": "text"
      },
      "source": [
        "# Task 5 - Unstacking the features and adding Metadata"
      ]
    },
    {
      "cell_type": "markdown",
      "metadata": {
        "id": "efJDPbH-Hudr",
        "colab_type": "text"
      },
      "source": [
        "Note as said before that we're adding decl and ddf from the metadata file.  We make final adjustments to our features dataset and add these variables before moving on."
      ]
    },
    {
      "cell_type": "code",
      "metadata": {
        "id": "6_5LDuvikm_p",
        "colab_type": "code",
        "colab": {}
      },
      "source": [
        "allfeatures = features.reset_index().set_index(['object_id','passband']).stack(\n",
        "    ).unstack([1,2])"
      ],
      "execution_count": 0,
      "outputs": []
    },
    {
      "cell_type": "code",
      "metadata": {
        "id": "kownQFFvJfak",
        "colab_type": "code",
        "outputId": "b297fed5-051c-42cb-efe6-3d15f5cccf8d",
        "colab": {
          "base_uri": "https://localhost:8080/",
          "height": 163
        }
      },
      "source": [
        "features.reset_index().head().set_index(['object_id','passband']).stack().unstack([1,2])"
      ],
      "execution_count": 0,
      "outputs": [
        {
          "output_type": "execute_result",
          "data": {
            "text/html": [
              "<div>\n",
              "<style scoped>\n",
              "    .dataframe tbody tr th:only-of-type {\n",
              "        vertical-align: middle;\n",
              "    }\n",
              "\n",
              "    .dataframe tbody tr th {\n",
              "        vertical-align: top;\n",
              "    }\n",
              "\n",
              "    .dataframe thead tr th {\n",
              "        text-align: left;\n",
              "    }\n",
              "\n",
              "    .dataframe thead tr:last-of-type th {\n",
              "        text-align: right;\n",
              "    }\n",
              "</style>\n",
              "<table border=\"1\" class=\"dataframe\">\n",
              "  <thead>\n",
              "    <tr>\n",
              "      <th>passband</th>\n",
              "      <th colspan=\"5\" halign=\"left\">0</th>\n",
              "      <th colspan=\"5\" halign=\"left\">1</th>\n",
              "      <th colspan=\"5\" halign=\"left\">2</th>\n",
              "      <th colspan=\"5\" halign=\"left\">3</th>\n",
              "      <th colspan=\"5\" halign=\"left\">4</th>\n",
              "    </tr>\n",
              "    <tr>\n",
              "      <th></th>\n",
              "      <th>m3</th>\n",
              "      <th>m4</th>\n",
              "      <th>medians</th>\n",
              "      <th>slopes</th>\n",
              "      <th>intercepts</th>\n",
              "      <th>m3</th>\n",
              "      <th>m4</th>\n",
              "      <th>medians</th>\n",
              "      <th>slopes</th>\n",
              "      <th>intercepts</th>\n",
              "      <th>m3</th>\n",
              "      <th>m4</th>\n",
              "      <th>medians</th>\n",
              "      <th>slopes</th>\n",
              "      <th>intercepts</th>\n",
              "      <th>m3</th>\n",
              "      <th>m4</th>\n",
              "      <th>medians</th>\n",
              "      <th>slopes</th>\n",
              "      <th>intercepts</th>\n",
              "      <th>m3</th>\n",
              "      <th>m4</th>\n",
              "      <th>medians</th>\n",
              "      <th>slopes</th>\n",
              "      <th>intercepts</th>\n",
              "    </tr>\n",
              "    <tr>\n",
              "      <th>object_id</th>\n",
              "      <th></th>\n",
              "      <th></th>\n",
              "      <th></th>\n",
              "      <th></th>\n",
              "      <th></th>\n",
              "      <th></th>\n",
              "      <th></th>\n",
              "      <th></th>\n",
              "      <th></th>\n",
              "      <th></th>\n",
              "      <th></th>\n",
              "      <th></th>\n",
              "      <th></th>\n",
              "      <th></th>\n",
              "      <th></th>\n",
              "      <th></th>\n",
              "      <th></th>\n",
              "      <th></th>\n",
              "      <th></th>\n",
              "      <th></th>\n",
              "      <th></th>\n",
              "      <th></th>\n",
              "      <th></th>\n",
              "      <th></th>\n",
              "      <th></th>\n",
              "    </tr>\n",
              "  </thead>\n",
              "  <tbody>\n",
              "    <tr>\n",
              "      <th>615</th>\n",
              "      <td>72665.79285</td>\n",
              "      <td>7.433032e+07</td>\n",
              "      <td>-0.080537</td>\n",
              "      <td>0.005676</td>\n",
              "      <td>-0.175947</td>\n",
              "      <td>8.593916e+07</td>\n",
              "      <td>2.215166e+11</td>\n",
              "      <td>-0.17009</td>\n",
              "      <td>0.014032</td>\n",
              "      <td>-0.399902</td>\n",
              "      <td>3.040627e+07</td>\n",
              "      <td>6.659406e+10</td>\n",
              "      <td>-0.289021</td>\n",
              "      <td>0.017676</td>\n",
              "      <td>-0.50376</td>\n",
              "      <td>1.049664e+07</td>\n",
              "      <td>1.919999e+10</td>\n",
              "      <td>-0.122434</td>\n",
              "      <td>0.020475</td>\n",
              "      <td>-0.583524</td>\n",
              "      <td>4.717542e+06</td>\n",
              "      <td>1.036570e+10</td>\n",
              "      <td>-0.163078</td>\n",
              "      <td>0.022343</td>\n",
              "      <td>-0.636786</td>\n",
              "    </tr>\n",
              "  </tbody>\n",
              "</table>\n",
              "</div>"
            ],
            "text/plain": [
              "passband             0                          ...         4                     \n",
              "                    m3            m4   medians  ...   medians    slopes intercepts\n",
              "object_id                                       ...                               \n",
              "615        72665.79285  7.433032e+07 -0.080537  ... -0.163078  0.022343  -0.636786\n",
              "\n",
              "[1 rows x 25 columns]"
            ]
          },
          "metadata": {
            "tags": []
          },
          "execution_count": 31
        }
      ]
    },
    {
      "cell_type": "code",
      "metadata": {
        "id": "RCDyRI1T2Z6b",
        "colab_type": "code",
        "outputId": "a1810d1d-07c8-468f-e16c-16d6b3e8428f",
        "colab": {
          "base_uri": "https://localhost:8080/",
          "height": 72
        }
      },
      "source": [
        "allfeatures = allfeatures.merge(metadata[[\"decl\", \"object_id\"]], left_on=\"object_id\", right_on=\"object_id\")\n",
        "allfeatures = allfeatures.merge(metadata[[\"ddf\", \"object_id\"]], left_on=\"object_id\", right_on=\"object_id\")\n",
        "allfeatures = allfeatures.merge(metadata[[\"target\", \"object_id\"]], left_on=\"object_id\", right_on=\"object_id\")"
      ],
      "execution_count": 0,
      "outputs": [
        {
          "output_type": "stream",
          "text": [
            "/usr/local/lib/python3.6/dist-packages/pandas/core/reshape/merge.py:618: UserWarning: merging between different levels can give an unintended result (2 levels on the left, 1 on the right)\n",
            "  warnings.warn(msg, UserWarning)\n"
          ],
          "name": "stderr"
        }
      ]
    },
    {
      "cell_type": "code",
      "metadata": {
        "id": "m76Pm_873C7L",
        "colab_type": "code",
        "outputId": "33424129-629d-4ead-f6bf-b4637788ff38",
        "colab": {
          "base_uri": "https://localhost:8080/",
          "height": 243
        }
      },
      "source": [
        "allfeatures.head()"
      ],
      "execution_count": 0,
      "outputs": [
        {
          "output_type": "execute_result",
          "data": {
            "text/html": [
              "<div>\n",
              "<style scoped>\n",
              "    .dataframe tbody tr th:only-of-type {\n",
              "        vertical-align: middle;\n",
              "    }\n",
              "\n",
              "    .dataframe tbody tr th {\n",
              "        vertical-align: top;\n",
              "    }\n",
              "\n",
              "    .dataframe thead th {\n",
              "        text-align: right;\n",
              "    }\n",
              "</style>\n",
              "<table border=\"1\" class=\"dataframe\">\n",
              "  <thead>\n",
              "    <tr style=\"text-align: right;\">\n",
              "      <th></th>\n",
              "      <th>object_id</th>\n",
              "      <th>(0, m3)</th>\n",
              "      <th>(0, m4)</th>\n",
              "      <th>(0, medians)</th>\n",
              "      <th>(0, slopes)</th>\n",
              "      <th>(0, intercepts)</th>\n",
              "      <th>(1, m3)</th>\n",
              "      <th>(1, m4)</th>\n",
              "      <th>(1, medians)</th>\n",
              "      <th>(1, slopes)</th>\n",
              "      <th>(1, intercepts)</th>\n",
              "      <th>(2, m3)</th>\n",
              "      <th>(2, m4)</th>\n",
              "      <th>(2, medians)</th>\n",
              "      <th>(2, slopes)</th>\n",
              "      <th>(2, intercepts)</th>\n",
              "      <th>(3, m3)</th>\n",
              "      <th>(3, m4)</th>\n",
              "      <th>(3, medians)</th>\n",
              "      <th>(3, slopes)</th>\n",
              "      <th>(3, intercepts)</th>\n",
              "      <th>(4, m3)</th>\n",
              "      <th>(4, m4)</th>\n",
              "      <th>(4, medians)</th>\n",
              "      <th>(4, slopes)</th>\n",
              "      <th>(4, intercepts)</th>\n",
              "      <th>(5, m3)</th>\n",
              "      <th>(5, m4)</th>\n",
              "      <th>(5, medians)</th>\n",
              "      <th>(5, slopes)</th>\n",
              "      <th>(5, intercepts)</th>\n",
              "      <th>decl</th>\n",
              "      <th>ddf</th>\n",
              "      <th>target</th>\n",
              "    </tr>\n",
              "  </thead>\n",
              "  <tbody>\n",
              "    <tr>\n",
              "      <th>0</th>\n",
              "      <td>615</td>\n",
              "      <td>72665.792850</td>\n",
              "      <td>7.433032e+07</td>\n",
              "      <td>-0.080537</td>\n",
              "      <td>0.005676</td>\n",
              "      <td>-0.175947</td>\n",
              "      <td>8.593916e+07</td>\n",
              "      <td>2.215166e+11</td>\n",
              "      <td>-0.170090</td>\n",
              "      <td>0.014032</td>\n",
              "      <td>-0.399902</td>\n",
              "      <td>3.040627e+07</td>\n",
              "      <td>6.659406e+10</td>\n",
              "      <td>-0.289021</td>\n",
              "      <td>0.017676</td>\n",
              "      <td>-0.503760</td>\n",
              "      <td>1.049664e+07</td>\n",
              "      <td>1.919999e+10</td>\n",
              "      <td>-0.122434</td>\n",
              "      <td>0.020475</td>\n",
              "      <td>-0.583524</td>\n",
              "      <td>4.717542e+06</td>\n",
              "      <td>1.036570e+10</td>\n",
              "      <td>-0.163078</td>\n",
              "      <td>0.022343</td>\n",
              "      <td>-0.636786</td>\n",
              "      <td>3.041829e+06</td>\n",
              "      <td>1.049535e+10</td>\n",
              "      <td>-0.129163</td>\n",
              "      <td>0.021319</td>\n",
              "      <td>-0.596932</td>\n",
              "      <td>-61.943836</td>\n",
              "      <td>1</td>\n",
              "      <td>92</td>\n",
              "    </tr>\n",
              "    <tr>\n",
              "      <th>1</th>\n",
              "      <td>713</td>\n",
              "      <td>89.634243</td>\n",
              "      <td>4.907398e+03</td>\n",
              "      <td>-0.052914</td>\n",
              "      <td>-0.041433</td>\n",
              "      <td>1.429423</td>\n",
              "      <td>-1.551087e+01</td>\n",
              "      <td>1.944373e+03</td>\n",
              "      <td>0.080189</td>\n",
              "      <td>-0.051648</td>\n",
              "      <td>1.420320</td>\n",
              "      <td>-4.127475e+00</td>\n",
              "      <td>1.935955e+03</td>\n",
              "      <td>0.117188</td>\n",
              "      <td>-0.053887</td>\n",
              "      <td>1.481892</td>\n",
              "      <td>-4.249286e+01</td>\n",
              "      <td>3.091660e+03</td>\n",
              "      <td>0.141552</td>\n",
              "      <td>-0.050983</td>\n",
              "      <td>1.402038</td>\n",
              "      <td>-1.597455e+01</td>\n",
              "      <td>2.938985e+03</td>\n",
              "      <td>0.016870</td>\n",
              "      <td>-0.050464</td>\n",
              "      <td>1.387765</td>\n",
              "      <td>7.377121e+01</td>\n",
              "      <td>5.294322e+03</td>\n",
              "      <td>-0.094281</td>\n",
              "      <td>-0.037903</td>\n",
              "      <td>1.042343</td>\n",
              "      <td>-27.784405</td>\n",
              "      <td>1</td>\n",
              "      <td>88</td>\n",
              "    </tr>\n",
              "    <tr>\n",
              "      <th>2</th>\n",
              "      <td>730</td>\n",
              "      <td>2.093148</td>\n",
              "      <td>3.655013e+01</td>\n",
              "      <td>0.039463</td>\n",
              "      <td>-0.001798</td>\n",
              "      <td>0.063840</td>\n",
              "      <td>2.623669e+00</td>\n",
              "      <td>3.870188e+01</td>\n",
              "      <td>0.016754</td>\n",
              "      <td>0.003167</td>\n",
              "      <td>-0.080770</td>\n",
              "      <td>3.864890e+02</td>\n",
              "      <td>6.926529e+03</td>\n",
              "      <td>-0.343392</td>\n",
              "      <td>0.026905</td>\n",
              "      <td>-0.686084</td>\n",
              "      <td>1.380135e+03</td>\n",
              "      <td>4.048490e+04</td>\n",
              "      <td>-0.314425</td>\n",
              "      <td>0.024491</td>\n",
              "      <td>-0.624531</td>\n",
              "      <td>2.936931e+03</td>\n",
              "      <td>1.060595e+05</td>\n",
              "      <td>-0.308522</td>\n",
              "      <td>0.022552</td>\n",
              "      <td>-0.563811</td>\n",
              "      <td>3.751336e+03</td>\n",
              "      <td>1.860606e+05</td>\n",
              "      <td>-0.149763</td>\n",
              "      <td>0.019612</td>\n",
              "      <td>-0.490299</td>\n",
              "      <td>-6.579593</td>\n",
              "      <td>1</td>\n",
              "      <td>42</td>\n",
              "    </tr>\n",
              "    <tr>\n",
              "      <th>3</th>\n",
              "      <td>745</td>\n",
              "      <td>162.368381</td>\n",
              "      <td>2.575248e+03</td>\n",
              "      <td>-0.169349</td>\n",
              "      <td>-0.013089</td>\n",
              "      <td>0.464675</td>\n",
              "      <td>1.161627e+05</td>\n",
              "      <td>2.162844e+07</td>\n",
              "      <td>-0.185994</td>\n",
              "      <td>-0.003826</td>\n",
              "      <td>0.105205</td>\n",
              "      <td>1.758302e+05</td>\n",
              "      <td>3.606109e+07</td>\n",
              "      <td>-0.290606</td>\n",
              "      <td>-0.003878</td>\n",
              "      <td>0.106641</td>\n",
              "      <td>1.519142e+05</td>\n",
              "      <td>2.575691e+07</td>\n",
              "      <td>-0.373246</td>\n",
              "      <td>-0.003931</td>\n",
              "      <td>0.108112</td>\n",
              "      <td>1.190633e+05</td>\n",
              "      <td>1.781661e+07</td>\n",
              "      <td>-0.358773</td>\n",
              "      <td>-0.004774</td>\n",
              "      <td>0.131296</td>\n",
              "      <td>5.309464e+04</td>\n",
              "      <td>6.203072e+06</td>\n",
              "      <td>-0.306851</td>\n",
              "      <td>-0.002816</td>\n",
              "      <td>0.076043</td>\n",
              "      <td>-45.586655</td>\n",
              "      <td>1</td>\n",
              "      <td>90</td>\n",
              "    </tr>\n",
              "    <tr>\n",
              "      <th>4</th>\n",
              "      <td>1124</td>\n",
              "      <td>-4.160853</td>\n",
              "      <td>1.101222e+02</td>\n",
              "      <td>-0.033864</td>\n",
              "      <td>0.017117</td>\n",
              "      <td>-0.530614</td>\n",
              "      <td>1.202103e+03</td>\n",
              "      <td>3.545471e+04</td>\n",
              "      <td>-0.429236</td>\n",
              "      <td>0.028666</td>\n",
              "      <td>-0.816982</td>\n",
              "      <td>2.827915e+04</td>\n",
              "      <td>2.468546e+06</td>\n",
              "      <td>-0.438785</td>\n",
              "      <td>0.025384</td>\n",
              "      <td>-0.723449</td>\n",
              "      <td>6.198814e+04</td>\n",
              "      <td>7.271993e+06</td>\n",
              "      <td>-0.383411</td>\n",
              "      <td>0.021342</td>\n",
              "      <td>-0.608237</td>\n",
              "      <td>7.183273e+04</td>\n",
              "      <td>9.005039e+06</td>\n",
              "      <td>-0.303771</td>\n",
              "      <td>0.019736</td>\n",
              "      <td>-0.562470</td>\n",
              "      <td>3.414365e+04</td>\n",
              "      <td>3.279413e+06</td>\n",
              "      <td>-0.229697</td>\n",
              "      <td>0.015555</td>\n",
              "      <td>-0.435534</td>\n",
              "      <td>-63.823658</td>\n",
              "      <td>1</td>\n",
              "      <td>90</td>\n",
              "    </tr>\n",
              "  </tbody>\n",
              "</table>\n",
              "</div>"
            ],
            "text/plain": [
              "   object_id       (0, m3)       (0, m4)  ...       decl  ddf  target\n",
              "0        615  72665.792850  7.433032e+07  ... -61.943836    1      92\n",
              "1        713     89.634243  4.907398e+03  ... -27.784405    1      88\n",
              "2        730      2.093148  3.655013e+01  ...  -6.579593    1      42\n",
              "3        745    162.368381  2.575248e+03  ... -45.586655    1      90\n",
              "4       1124     -4.160853  1.101222e+02  ... -63.823658    1      90\n",
              "\n",
              "[5 rows x 34 columns]"
            ]
          },
          "metadata": {
            "tags": []
          },
          "execution_count": 33
        }
      ]
    },
    {
      "cell_type": "markdown",
      "metadata": {
        "id": "lTR_iUYF6qGs",
        "colab_type": "text"
      },
      "source": [
        "# HW9 Starts Here"
      ]
    },
    {
      "cell_type": "markdown",
      "metadata": {
        "id": "xvoxt6AlaFla",
        "colab_type": "text"
      },
      "source": [
        "-----------------------------"
      ]
    },
    {
      "cell_type": "markdown",
      "metadata": {
        "id": "SpiK-AtSaDMB",
        "colab_type": "text"
      },
      "source": [
        "-----------------------------"
      ]
    },
    {
      "cell_type": "markdown",
      "metadata": {
        "id": "qUNxkcHIaCPp",
        "colab_type": "text"
      },
      "source": [
        "-------------------------"
      ]
    },
    {
      "cell_type": "markdown",
      "metadata": {
        "id": "bSzOKQiHS-O_",
        "colab_type": "text"
      },
      "source": [
        "We have 4 main steps involved with doing this homework:"
      ]
    },
    {
      "cell_type": "markdown",
      "metadata": {
        "id": "gxMKnvnqTCfA",
        "colab_type": "text"
      },
      "source": [
        "1. Interpolate each individual passband series to an equal number of datapoints"
      ]
    },
    {
      "cell_type": "markdown",
      "metadata": {
        "id": "jogB7cuETFqL",
        "colab_type": "text"
      },
      "source": [
        "2. Train an autoencoder with the equal-sized series and extract the bottleneck features"
      ]
    },
    {
      "cell_type": "markdown",
      "metadata": {
        "id": "XeclSlPSTSE3",
        "colab_type": "text"
      },
      "source": [
        "3. Insert the extracted features into our allfeatures matrix\n"
      ]
    },
    {
      "cell_type": "markdown",
      "metadata": {
        "id": "NOinyPTXTcsS",
        "colab_type": "text"
      },
      "source": [
        "4. Redo the random forest classification that we did from HW6"
      ]
    },
    {
      "cell_type": "markdown",
      "metadata": {
        "id": "8zV3tGFuTgPE",
        "colab_type": "text"
      },
      "source": [
        "# Part 1: Interpolation"
      ]
    },
    {
      "cell_type": "markdown",
      "metadata": {
        "id": "_qjfungsMbRt",
        "colab_type": "text"
      },
      "source": [
        "First: Interpolate each series by setting up Gaussian Processes.  I perform the interpolation on each individual passband."
      ]
    },
    {
      "cell_type": "markdown",
      "metadata": {
        "id": "7snPBr1vT8Nz",
        "colab_type": "text"
      },
      "source": [
        "I'll start by doing it for one series to ensure that I'm doing it correctly, then I'll add it in a for loop for every series and get our autoencoder."
      ]
    },
    {
      "cell_type": "markdown",
      "metadata": {
        "id": "fI_HSxjXTlbW",
        "colab_type": "text"
      },
      "source": [
        "Setup:"
      ]
    },
    {
      "cell_type": "code",
      "metadata": {
        "id": "rw5YpyHsMf1s",
        "colab_type": "code",
        "outputId": "8f103887-620e-4dab-cd12-ad455b969b40",
        "colab": {
          "base_uri": "https://localhost:8080/",
          "height": 315
        }
      },
      "source": [
        "!pip install george\n",
        "import george\n",
        "import tensorflow as tf\n",
        "import sklearn\n",
        "from sklearn.model_selection import train_test_split\n",
        "from sklearn import preprocessing\n",
        "from sklearn.gaussian_process import GaussianProcessRegressor\n",
        "from sklearn.gaussian_process.kernels import RBF, WhiteKernel, ConstantKernel, ExpSineSquared\n",
        "from george.kernels import Matern32Kernel, ConstantKernel#, WhiteKernel"
      ],
      "execution_count": 0,
      "outputs": [
        {
          "output_type": "stream",
          "text": [
            "Collecting george\n",
            "\u001b[?25l  Downloading https://files.pythonhosted.org/packages/27/19/9de575be629e3a41c3ca6b1e2c80e0ae90a2e831436c5f70cc8d72e37ab7/george-0.3.1.tar.gz (1.8MB)\n",
            "\u001b[K     |████████████████████████████████| 1.8MB 2.8MB/s \n",
            "\u001b[?25hRequirement already satisfied: numpy in /usr/local/lib/python3.6/dist-packages (from george) (1.18.4)\n",
            "Requirement already satisfied: scipy in /usr/local/lib/python3.6/dist-packages (from george) (1.4.1)\n",
            "Collecting pybind11\n",
            "\u001b[?25l  Downloading https://files.pythonhosted.org/packages/89/e3/d576f6f02bc75bacbc3d42494e8f1d063c95617d86648dba243c2cb3963e/pybind11-2.5.0-py2.py3-none-any.whl (296kB)\n",
            "\u001b[K     |████████████████████████████████| 296kB 18.0MB/s \n",
            "\u001b[?25hBuilding wheels for collected packages: george\n",
            "  Building wheel for george (setup.py) ... \u001b[?25lerror\n",
            "\u001b[31m  ERROR: Failed building wheel for george\u001b[0m\n",
            "\u001b[?25h  Running setup.py clean for george\n",
            "Failed to build george\n",
            "Installing collected packages: pybind11, george\n",
            "    Running setup.py install for george ... \u001b[?25l\u001b[?25hdone\n",
            "Successfully installed george-0.3.1 pybind11-2.5.0\n"
          ],
          "name": "stdout"
        }
      ]
    },
    {
      "cell_type": "code",
      "metadata": {
        "id": "Ant0WuulXKW5",
        "colab_type": "code",
        "colab": {}
      },
      "source": [
        "from scipy.optimize import minimize"
      ],
      "execution_count": 0,
      "outputs": []
    },
    {
      "cell_type": "markdown",
      "metadata": {
        "id": "Py2B9PELTzjS",
        "colab_type": "text"
      },
      "source": [
        "Initializing our Gaussian process and its kernel:"
      ]
    },
    {
      "cell_type": "code",
      "metadata": {
        "id": "bDp-19cFMq0E",
        "colab_type": "code",
        "colab": {}
      },
      "source": [
        "kernel = ConstantKernel(5) * Matern32Kernel(5)\n",
        "gp = george.GP(kernel)"
      ],
      "execution_count": 0,
      "outputs": []
    },
    {
      "cell_type": "code",
      "metadata": {
        "id": "srgvHF5KNGF4",
        "colab_type": "code",
        "colab": {}
      },
      "source": [
        "y = lcvs.loc[lcvs[\"object_id\"]==130779836].loc[lcvs[\"passband\"]==2][\"flux\"].values  # our flux value\n",
        "x = lcvs.loc[lcvs[\"object_id\"]==130779836].loc[lcvs[\"passband\"]==2][\"mjd\"].values   # instead of using mjd, we'll start everything at 0\n",
        "#x = (x- min(x)) /max(x)\n",
        "yerr = lcvs.loc[lcvs[\"object_id\"]==130779836].loc[lcvs[\"passband\"]==2][\"flux_err\"].values  # our errors for each value"
      ],
      "execution_count": 0,
      "outputs": []
    },
    {
      "cell_type": "code",
      "metadata": {
        "id": "pOYVgHt7GSko",
        "colab_type": "code",
        "outputId": "fd9befa3-3df8-4cde-f44d-5a1c65985ae1",
        "colab": {
          "base_uri": "https://localhost:8080/",
          "height": 206
        }
      },
      "source": [
        "lcvs.tail()"
      ],
      "execution_count": 0,
      "outputs": [
        {
          "output_type": "execute_result",
          "data": {
            "text/html": [
              "<div>\n",
              "<style scoped>\n",
              "    .dataframe tbody tr th:only-of-type {\n",
              "        vertical-align: middle;\n",
              "    }\n",
              "\n",
              "    .dataframe tbody tr th {\n",
              "        vertical-align: top;\n",
              "    }\n",
              "\n",
              "    .dataframe thead th {\n",
              "        text-align: right;\n",
              "    }\n",
              "</style>\n",
              "<table border=\"1\" class=\"dataframe\">\n",
              "  <thead>\n",
              "    <tr style=\"text-align: right;\">\n",
              "      <th></th>\n",
              "      <th>object_id</th>\n",
              "      <th>mjd</th>\n",
              "      <th>passband</th>\n",
              "      <th>flux</th>\n",
              "      <th>flux_err</th>\n",
              "      <th>detected</th>\n",
              "      <th>fluxnormed</th>\n",
              "    </tr>\n",
              "  </thead>\n",
              "  <tbody>\n",
              "    <tr>\n",
              "      <th>1421700</th>\n",
              "      <td>130779836</td>\n",
              "      <td>60555.9838</td>\n",
              "      <td>4</td>\n",
              "      <td>-39.881969</td>\n",
              "      <td>46.477093</td>\n",
              "      <td>0</td>\n",
              "      <td>0.0</td>\n",
              "    </tr>\n",
              "    <tr>\n",
              "      <th>1421701</th>\n",
              "      <td>130779836</td>\n",
              "      <td>60560.0459</td>\n",
              "      <td>1</td>\n",
              "      <td>14.894439</td>\n",
              "      <td>18.947685</td>\n",
              "      <td>0</td>\n",
              "      <td>0.0</td>\n",
              "    </tr>\n",
              "    <tr>\n",
              "      <th>1421702</th>\n",
              "      <td>130779836</td>\n",
              "      <td>60571.0225</td>\n",
              "      <td>5</td>\n",
              "      <td>30.593130</td>\n",
              "      <td>50.695290</td>\n",
              "      <td>0</td>\n",
              "      <td>0.0</td>\n",
              "    </tr>\n",
              "    <tr>\n",
              "      <th>1421703</th>\n",
              "      <td>130779836</td>\n",
              "      <td>60585.9974</td>\n",
              "      <td>4</td>\n",
              "      <td>-23.471439</td>\n",
              "      <td>44.819859</td>\n",
              "      <td>0</td>\n",
              "      <td>0.0</td>\n",
              "    </tr>\n",
              "    <tr>\n",
              "      <th>1421704</th>\n",
              "      <td>130779836</td>\n",
              "      <td>60588.0372</td>\n",
              "      <td>0</td>\n",
              "      <td>-41.214264</td>\n",
              "      <td>51.665123</td>\n",
              "      <td>0</td>\n",
              "      <td>0.0</td>\n",
              "    </tr>\n",
              "  </tbody>\n",
              "</table>\n",
              "</div>"
            ],
            "text/plain": [
              "         object_id         mjd  passband  ...   flux_err  detected  fluxnormed\n",
              "1421700  130779836  60555.9838         4  ...  46.477093         0         0.0\n",
              "1421701  130779836  60560.0459         1  ...  18.947685         0         0.0\n",
              "1421702  130779836  60571.0225         5  ...  50.695290         0         0.0\n",
              "1421703  130779836  60585.9974         4  ...  44.819859         0         0.0\n",
              "1421704  130779836  60588.0372         0  ...  51.665123         0         0.0\n",
              "\n",
              "[5 rows x 7 columns]"
            ]
          },
          "metadata": {
            "tags": []
          },
          "execution_count": 38
        }
      ]
    },
    {
      "cell_type": "code",
      "metadata": {
        "id": "jZSpaSHDM_9h",
        "colab_type": "code",
        "colab": {}
      },
      "source": [
        "gp.compute(x, yerr)"
      ],
      "execution_count": 0,
      "outputs": []
    },
    {
      "cell_type": "code",
      "metadata": {
        "id": "Lbur20vsZcq7",
        "colab_type": "code",
        "colab": {}
      },
      "source": [
        "#newx = np.linspace(0, x[-1], 1000)\n",
        "newx = np.linspace(x[0], x[-1], 100)"
      ],
      "execution_count": 0,
      "outputs": []
    },
    {
      "cell_type": "markdown",
      "metadata": {
        "id": "0Q4w0Yr8XPad",
        "colab_type": "text"
      },
      "source": [
        "Optimizing the parameters of our GP:"
      ]
    },
    {
      "cell_type": "code",
      "metadata": {
        "id": "BGxm-gw_XOrK",
        "colab_type": "code",
        "colab": {}
      },
      "source": [
        "def neg_ln_like(p):\n",
        "    gp.set_parameter_vector(p)\n",
        "    return -gp.log_likelihood(y)\n",
        "\n",
        "def grad_neg_ln_like(p):\n",
        "    gp.set_parameter_vector(p)\n",
        "    return -gp.grad_log_likelihood(y)\n",
        "result = minimize(neg_ln_like, gp.get_parameter_vector(), jac=grad_neg_ln_like)\n",
        "gp.set_parameter_vector(result.x)"
      ],
      "execution_count": 0,
      "outputs": []
    },
    {
      "cell_type": "code",
      "metadata": {
        "id": "z1LaMCMHNPh2",
        "colab_type": "code",
        "colab": {}
      },
      "source": [
        "f, sig = gp.predict(y, newx, return_var=True)"
      ],
      "execution_count": 0,
      "outputs": []
    },
    {
      "cell_type": "markdown",
      "metadata": {
        "id": "JainO-9dr9D_",
        "colab_type": "text"
      },
      "source": [
        "And finally, plotting our result:"
      ]
    },
    {
      "cell_type": "code",
      "metadata": {
        "id": "JnNcTFijNU2N",
        "colab_type": "code",
        "outputId": "8d580eb2-024f-4f76-c64f-7754a80f5a4c",
        "colab": {
          "base_uri": "https://localhost:8080/",
          "height": 282
        }
      },
      "source": [
        "pl.plot(newx, f)\n",
        "pl.fill_between(newx, f - np.sqrt(sig), f + np.sqrt(sig), alpha=0.5);\n",
        "pl.plot(x, y, '.')"
      ],
      "execution_count": 0,
      "outputs": [
        {
          "output_type": "execute_result",
          "data": {
            "text/plain": [
              "[<matplotlib.lines.Line2D at 0x7f7fafdadf28>]"
            ]
          },
          "metadata": {
            "tags": []
          },
          "execution_count": 43
        },
        {
          "output_type": "display_data",
          "data": {
            "image/png": "[encoded data removed]",
            "text/plain": [
              "<Figure size 432x288 with 1 Axes>"
            ]
          },
          "metadata": {
            "tags": [],
            "needs_background": "light"
          }
        }
      ]
    },
    {
      "cell_type": "markdown",
      "metadata": {
        "id": "v-SyoIxBajTt",
        "colab_type": "text"
      },
      "source": [
        "Figure 1: Results of a Gaussian process for object 130779836 and passband 2.  Note that as a result of doing this interpolation, we can evenly sample any number of datapoints we would desire along the center line."
      ]
    },
    {
      "cell_type": "markdown",
      "metadata": {
        "id": "pjbP-qw1r-yl",
        "colab_type": "text"
      },
      "source": [
        "Therefore our interpolation works, and we can continue with interpolating every series to obtain 100 points and get our feature.  We do that in the next 2 cells of code."
      ]
    },
    {
      "cell_type": "code",
      "metadata": {
        "id": "nFdOOhonvF8m",
        "colab_type": "code",
        "colab": {}
      },
      "source": [
        "dat = []\n",
        "errvals = []\n",
        "gp = george.GP(kernel)"
      ],
      "execution_count": 0,
      "outputs": []
    },
    {
      "cell_type": "code",
      "metadata": {
        "id": "KhNkY_rcsGRk",
        "colab_type": "code",
        "colab": {}
      },
      "source": [
        "for val, i in enumerate(lcvs[\"object_id\"].unique()):\n",
        "  for j in lcvs[\"passband\"].unique():\n",
        "    kernel = ConstantKernel(5) * Matern32Kernel(5)\n",
        "    gp = george.GP(kernel)\n",
        "    y = lcvs.loc[lcvs[\"object_id\"]==i].loc[lcvs[\"passband\"]==j][\"flux\"].values\n",
        "    x = lcvs.loc[lcvs[\"object_id\"]==i].loc[lcvs[\"passband\"]==j][\"mjd\"].values \n",
        "    #x = (x- min(x)) /max(x)\n",
        "    yerr = lcvs.loc[lcvs[\"object_id\"]==i].loc[lcvs[\"passband\"]==j][\"flux_err\"].values\n",
        "    try:\n",
        "      gp.compute(x, yerr)\n",
        "      newx = np.linspace(x[0], x[-1], 100)\n",
        "      result = minimize(neg_ln_like, gp.get_parameter_vector(), jac=grad_neg_ln_like)\n",
        "      gp.set_parameter_vector(result.x)\n",
        "      f, sig = gp.predict(y, newx, return_var=True)\n",
        "      dat.append([i, j] + f.tolist())\n",
        "    except:\n",
        "      print('err')\n",
        "      print(val)\n",
        "      errvals.append(i)"
      ],
      "execution_count": 0,
      "outputs": []
    },
    {
      "cell_type": "markdown",
      "metadata": {
        "id": "VpOBEqHw_c9h",
        "colab_type": "text"
      },
      "source": [
        "The code above was actually pretty frustrating--while computing the Gaussian processes in the for loop, there were a lot of objects that produced issues of positive-definiteness.  The strange thing is that the first time I ran this code, I had very few issues with this, so I don't know what could have changed.  Either way, I kept a list called errvals which recorded the objects that had issues of positive definiteness, which I then removed them from the final dataset."
      ]
    },
    {
      "cell_type": "code",
      "metadata": {
        "id": "cWopuTePzM1P",
        "colab_type": "code",
        "colab": {}
      },
      "source": [
        "interp = np.array(dat)"
      ],
      "execution_count": 0,
      "outputs": []
    },
    {
      "cell_type": "markdown",
      "metadata": {
        "id": "xUf39HcKa_bo",
        "colab_type": "text"
      },
      "source": [
        "I'll save the results from running the for loop, since it took a long time to complete."
      ]
    },
    {
      "cell_type": "code",
      "metadata": {
        "id": "ML3lY9rNvKK6",
        "colab_type": "code",
        "colab": {}
      },
      "source": [
        "np.save(\"data_hw9\", interp)\n",
        "np.save(\"err_hw9\", np.array(errvals))"
      ],
      "execution_count": 0,
      "outputs": []
    },
    {
      "cell_type": "code",
      "metadata": {
        "id": "BX3--XKvF2ac",
        "colab_type": "code",
        "colab": {}
      },
      "source": [
        "interp = np.load(\"data_hw9.npy\")\n",
        "errvals = np.load(\"err_hw9.npy\")"
      ],
      "execution_count": 0,
      "outputs": []
    },
    {
      "cell_type": "markdown",
      "metadata": {
        "id": "teu7dsYNRxmz",
        "colab_type": "text"
      },
      "source": [
        "Let's see how many observations our errvals take out of the dataset:"
      ]
    },
    {
      "cell_type": "code",
      "metadata": {
        "id": "4oNz9eIkRok8",
        "colab_type": "code",
        "outputId": "7b0987b6-07dc-40b4-d1ca-7f4068dd7634",
        "colab": {
          "base_uri": "https://localhost:8080/",
          "height": 34
        }
      },
      "source": [
        "len(errvals) / len(lcvs[\"object_id\"].unique())"
      ],
      "execution_count": 0,
      "outputs": [
        {
          "output_type": "execute_result",
          "data": {
            "text/plain": [
              "0.020642201834862386"
            ]
          },
          "metadata": {
            "tags": []
          },
          "execution_count": 189
        }
      ]
    },
    {
      "cell_type": "markdown",
      "metadata": {
        "id": "oHKAVlYuR1gI",
        "colab_type": "text"
      },
      "source": [
        "Roughly 2% of the dataset is removed, which isn't a big deal for our purposes."
      ]
    },
    {
      "cell_type": "markdown",
      "metadata": {
        "id": "c3s2FmxfSH4K",
        "colab_type": "text"
      },
      "source": [
        "Before we do the training, let's remove the error observations from the dataset:"
      ]
    },
    {
      "cell_type": "code",
      "metadata": {
        "id": "LXbGYE_OSNrF",
        "colab_type": "code",
        "colab": {}
      },
      "source": [
        "newfeatures = allfeatures.loc[~allfeatures[\"object_id\"].isin(errvals)]"
      ],
      "execution_count": 0,
      "outputs": []
    },
    {
      "cell_type": "code",
      "metadata": {
        "id": "X8BGVWzeX9JQ",
        "colab_type": "code",
        "outputId": "ca3a181e-d858-491a-e51c-b5e8af340792",
        "colab": {
          "base_uri": "https://localhost:8080/",
          "height": 243
        }
      },
      "source": [
        "newfeatures.head()"
      ],
      "execution_count": 0,
      "outputs": [
        {
          "output_type": "execute_result",
          "data": {
            "text/html": [
              "<div>\n",
              "<style scoped>\n",
              "    .dataframe tbody tr th:only-of-type {\n",
              "        vertical-align: middle;\n",
              "    }\n",
              "\n",
              "    .dataframe tbody tr th {\n",
              "        vertical-align: top;\n",
              "    }\n",
              "\n",
              "    .dataframe thead th {\n",
              "        text-align: right;\n",
              "    }\n",
              "</style>\n",
              "<table border=\"1\" class=\"dataframe\">\n",
              "  <thead>\n",
              "    <tr style=\"text-align: right;\">\n",
              "      <th></th>\n",
              "      <th>object_id</th>\n",
              "      <th>(0, m3)</th>\n",
              "      <th>(0, m4)</th>\n",
              "      <th>(0, medians)</th>\n",
              "      <th>(0, slopes)</th>\n",
              "      <th>(0, intercepts)</th>\n",
              "      <th>(1, m3)</th>\n",
              "      <th>(1, m4)</th>\n",
              "      <th>(1, medians)</th>\n",
              "      <th>(1, slopes)</th>\n",
              "      <th>(1, intercepts)</th>\n",
              "      <th>(2, m3)</th>\n",
              "      <th>(2, m4)</th>\n",
              "      <th>(2, medians)</th>\n",
              "      <th>(2, slopes)</th>\n",
              "      <th>(2, intercepts)</th>\n",
              "      <th>(3, m3)</th>\n",
              "      <th>(3, m4)</th>\n",
              "      <th>(3, medians)</th>\n",
              "      <th>(3, slopes)</th>\n",
              "      <th>(3, intercepts)</th>\n",
              "      <th>(4, m3)</th>\n",
              "      <th>(4, m4)</th>\n",
              "      <th>(4, medians)</th>\n",
              "      <th>(4, slopes)</th>\n",
              "      <th>(4, intercepts)</th>\n",
              "      <th>(5, m3)</th>\n",
              "      <th>(5, m4)</th>\n",
              "      <th>(5, medians)</th>\n",
              "      <th>(5, slopes)</th>\n",
              "      <th>(5, intercepts)</th>\n",
              "      <th>decl</th>\n",
              "      <th>ddf</th>\n",
              "      <th>target</th>\n",
              "    </tr>\n",
              "  </thead>\n",
              "  <tbody>\n",
              "    <tr>\n",
              "      <th>0</th>\n",
              "      <td>615</td>\n",
              "      <td>72665.792850</td>\n",
              "      <td>7.433032e+07</td>\n",
              "      <td>-0.080537</td>\n",
              "      <td>0.005676</td>\n",
              "      <td>-0.175947</td>\n",
              "      <td>8.593916e+07</td>\n",
              "      <td>2.215166e+11</td>\n",
              "      <td>-0.170090</td>\n",
              "      <td>0.014032</td>\n",
              "      <td>-0.399902</td>\n",
              "      <td>3.040627e+07</td>\n",
              "      <td>6.659406e+10</td>\n",
              "      <td>-0.289021</td>\n",
              "      <td>0.017676</td>\n",
              "      <td>-0.503760</td>\n",
              "      <td>1.049664e+07</td>\n",
              "      <td>1.919999e+10</td>\n",
              "      <td>-0.122434</td>\n",
              "      <td>0.020475</td>\n",
              "      <td>-0.583524</td>\n",
              "      <td>4.717542e+06</td>\n",
              "      <td>1.036570e+10</td>\n",
              "      <td>-0.163078</td>\n",
              "      <td>0.022343</td>\n",
              "      <td>-0.636786</td>\n",
              "      <td>3.041829e+06</td>\n",
              "      <td>1.049535e+10</td>\n",
              "      <td>-0.129163</td>\n",
              "      <td>0.021319</td>\n",
              "      <td>-0.596932</td>\n",
              "      <td>-61.943836</td>\n",
              "      <td>1</td>\n",
              "      <td>92</td>\n",
              "    </tr>\n",
              "    <tr>\n",
              "      <th>1</th>\n",
              "      <td>713</td>\n",
              "      <td>89.634243</td>\n",
              "      <td>4.907398e+03</td>\n",
              "      <td>-0.052914</td>\n",
              "      <td>-0.041433</td>\n",
              "      <td>1.429423</td>\n",
              "      <td>-1.551087e+01</td>\n",
              "      <td>1.944373e+03</td>\n",
              "      <td>0.080189</td>\n",
              "      <td>-0.051648</td>\n",
              "      <td>1.420320</td>\n",
              "      <td>-4.127475e+00</td>\n",
              "      <td>1.935955e+03</td>\n",
              "      <td>0.117188</td>\n",
              "      <td>-0.053887</td>\n",
              "      <td>1.481892</td>\n",
              "      <td>-4.249286e+01</td>\n",
              "      <td>3.091660e+03</td>\n",
              "      <td>0.141552</td>\n",
              "      <td>-0.050983</td>\n",
              "      <td>1.402038</td>\n",
              "      <td>-1.597455e+01</td>\n",
              "      <td>2.938985e+03</td>\n",
              "      <td>0.016870</td>\n",
              "      <td>-0.050464</td>\n",
              "      <td>1.387765</td>\n",
              "      <td>7.377121e+01</td>\n",
              "      <td>5.294322e+03</td>\n",
              "      <td>-0.094281</td>\n",
              "      <td>-0.037903</td>\n",
              "      <td>1.042343</td>\n",
              "      <td>-27.784405</td>\n",
              "      <td>1</td>\n",
              "      <td>88</td>\n",
              "    </tr>\n",
              "    <tr>\n",
              "      <th>2</th>\n",
              "      <td>730</td>\n",
              "      <td>2.093148</td>\n",
              "      <td>3.655013e+01</td>\n",
              "      <td>0.039463</td>\n",
              "      <td>-0.001798</td>\n",
              "      <td>0.063840</td>\n",
              "      <td>2.623669e+00</td>\n",
              "      <td>3.870188e+01</td>\n",
              "      <td>0.016754</td>\n",
              "      <td>0.003167</td>\n",
              "      <td>-0.080770</td>\n",
              "      <td>3.864890e+02</td>\n",
              "      <td>6.926529e+03</td>\n",
              "      <td>-0.343392</td>\n",
              "      <td>0.026905</td>\n",
              "      <td>-0.686084</td>\n",
              "      <td>1.380135e+03</td>\n",
              "      <td>4.048490e+04</td>\n",
              "      <td>-0.314425</td>\n",
              "      <td>0.024491</td>\n",
              "      <td>-0.624531</td>\n",
              "      <td>2.936931e+03</td>\n",
              "      <td>1.060595e+05</td>\n",
              "      <td>-0.308522</td>\n",
              "      <td>0.022552</td>\n",
              "      <td>-0.563811</td>\n",
              "      <td>3.751336e+03</td>\n",
              "      <td>1.860606e+05</td>\n",
              "      <td>-0.149763</td>\n",
              "      <td>0.019612</td>\n",
              "      <td>-0.490299</td>\n",
              "      <td>-6.579593</td>\n",
              "      <td>1</td>\n",
              "      <td>42</td>\n",
              "    </tr>\n",
              "    <tr>\n",
              "      <th>3</th>\n",
              "      <td>745</td>\n",
              "      <td>162.368381</td>\n",
              "      <td>2.575248e+03</td>\n",
              "      <td>-0.169349</td>\n",
              "      <td>-0.013089</td>\n",
              "      <td>0.464675</td>\n",
              "      <td>1.161627e+05</td>\n",
              "      <td>2.162844e+07</td>\n",
              "      <td>-0.185994</td>\n",
              "      <td>-0.003826</td>\n",
              "      <td>0.105205</td>\n",
              "      <td>1.758302e+05</td>\n",
              "      <td>3.606109e+07</td>\n",
              "      <td>-0.290606</td>\n",
              "      <td>-0.003878</td>\n",
              "      <td>0.106641</td>\n",
              "      <td>1.519142e+05</td>\n",
              "      <td>2.575691e+07</td>\n",
              "      <td>-0.373246</td>\n",
              "      <td>-0.003931</td>\n",
              "      <td>0.108112</td>\n",
              "      <td>1.190633e+05</td>\n",
              "      <td>1.781661e+07</td>\n",
              "      <td>-0.358773</td>\n",
              "      <td>-0.004774</td>\n",
              "      <td>0.131296</td>\n",
              "      <td>5.309464e+04</td>\n",
              "      <td>6.203072e+06</td>\n",
              "      <td>-0.306851</td>\n",
              "      <td>-0.002816</td>\n",
              "      <td>0.076043</td>\n",
              "      <td>-45.586655</td>\n",
              "      <td>1</td>\n",
              "      <td>90</td>\n",
              "    </tr>\n",
              "    <tr>\n",
              "      <th>4</th>\n",
              "      <td>1124</td>\n",
              "      <td>-4.160853</td>\n",
              "      <td>1.101222e+02</td>\n",
              "      <td>-0.033864</td>\n",
              "      <td>0.017117</td>\n",
              "      <td>-0.530614</td>\n",
              "      <td>1.202103e+03</td>\n",
              "      <td>3.545471e+04</td>\n",
              "      <td>-0.429236</td>\n",
              "      <td>0.028666</td>\n",
              "      <td>-0.816982</td>\n",
              "      <td>2.827915e+04</td>\n",
              "      <td>2.468546e+06</td>\n",
              "      <td>-0.438785</td>\n",
              "      <td>0.025384</td>\n",
              "      <td>-0.723449</td>\n",
              "      <td>6.198814e+04</td>\n",
              "      <td>7.271993e+06</td>\n",
              "      <td>-0.383411</td>\n",
              "      <td>0.021342</td>\n",
              "      <td>-0.608237</td>\n",
              "      <td>7.183273e+04</td>\n",
              "      <td>9.005039e+06</td>\n",
              "      <td>-0.303771</td>\n",
              "      <td>0.019736</td>\n",
              "      <td>-0.562470</td>\n",
              "      <td>3.414365e+04</td>\n",
              "      <td>3.279413e+06</td>\n",
              "      <td>-0.229697</td>\n",
              "      <td>0.015555</td>\n",
              "      <td>-0.435534</td>\n",
              "      <td>-63.823658</td>\n",
              "      <td>1</td>\n",
              "      <td>90</td>\n",
              "    </tr>\n",
              "  </tbody>\n",
              "</table>\n",
              "</div>"
            ],
            "text/plain": [
              "   object_id       (0, m3)       (0, m4)  ...       decl  ddf  target\n",
              "0        615  72665.792850  7.433032e+07  ... -61.943836    1      92\n",
              "1        713     89.634243  4.907398e+03  ... -27.784405    1      88\n",
              "2        730      2.093148  3.655013e+01  ...  -6.579593    1      42\n",
              "3        745    162.368381  2.575248e+03  ... -45.586655    1      90\n",
              "4       1124     -4.160853  1.101222e+02  ... -63.823658    1      90\n",
              "\n",
              "[5 rows x 34 columns]"
            ]
          },
          "metadata": {
            "tags": []
          },
          "execution_count": 49
        }
      ]
    },
    {
      "cell_type": "markdown",
      "metadata": {
        "id": "-YK-e19iUL3N",
        "colab_type": "text"
      },
      "source": [
        "And finally, we'll get our training/validation sets in preperation for training the autoencoder:"
      ]
    },
    {
      "cell_type": "code",
      "metadata": {
        "colab_type": "code",
        "id": "qJbJDr5PUOcl",
        "colab": {}
      },
      "source": [
        "X_train, X_test, _, _ = train_test_split(interp[:, 2:], interp[:, 2:], test_size=0.30, random_state=8)"
      ],
      "execution_count": 0,
      "outputs": []
    },
    {
      "cell_type": "markdown",
      "metadata": {
        "id": "8PY-BDGbcmuu",
        "colab_type": "text"
      },
      "source": [
        "We'll also whiten our training/testing set, as we always should."
      ]
    },
    {
      "cell_type": "code",
      "metadata": {
        "colab_type": "code",
        "id": "TJZUiLubUOcx",
        "colab": {}
      },
      "source": [
        "Xtrain_scaled = preprocessing.scale(X_train)\n",
        "Xtest_scaled = preprocessing.scale(X_test)"
      ],
      "execution_count": 0,
      "outputs": []
    },
    {
      "cell_type": "markdown",
      "metadata": {
        "id": "bndsED8oR7sN",
        "colab_type": "text"
      },
      "source": [
        "# Part 2. Training the Autoencoder"
      ]
    },
    {
      "cell_type": "markdown",
      "metadata": {
        "id": "13m7auZ7V6yK",
        "colab_type": "text"
      },
      "source": [
        "Now we'll train and get features from our autoencoder:"
      ]
    },
    {
      "cell_type": "code",
      "metadata": {
        "id": "jCOWLmMH1nwI",
        "colab_type": "code",
        "colab": {}
      },
      "source": [
        "model = tf.keras.models.Sequential([\n",
        "    tf.keras.layers.Dense(90, activation=\"relu\", kernel_initializer='he_uniform', input_dim=100),\n",
        "    tf.keras.layers.Dense(70, activation=\"relu\", kernel_initializer='he_uniform'),\n",
        "    tf.keras.layers.Dense(50, activation=\"relu\", kernel_initializer='he_uniform'),\n",
        "    tf.keras.layers.Dense(25, activation=\"relu\", kernel_initializer='he_uniform'),\n",
        "    tf.keras.layers.Dense(15, activation=\"relu\", kernel_initializer='he_uniform'),\n",
        "    tf.keras.layers.Dense(25, activation=\"relu\", kernel_initializer='he_uniform'),\n",
        "    tf.keras.layers.Dense(50, activation=\"relu\", kernel_initializer='he_uniform'),\n",
        "    tf.keras.layers.Dense(70, activation=\"relu\", kernel_initializer='he_uniform'),\n",
        "    tf.keras.layers.Dense(90, activation=\"relu\", kernel_initializer='he_uniform'),\n",
        "    tf.keras.layers.Dense(100)])"
      ],
      "execution_count": 0,
      "outputs": []
    },
    {
      "cell_type": "markdown",
      "metadata": {
        "id": "PmGG0-WiV-8j",
        "colab_type": "text"
      },
      "source": [
        "Next we compile the model.  We used the Adam optimizer, which is a standard in the machine learning community as a good SGD optimizer.  I initially had the learning rate around 0.001, but that proved to be way to high for this model, so I lowered it by a factor of 100 to 0.00001."
      ]
    },
    {
      "cell_type": "markdown",
      "metadata": {
        "id": "kuV90lkvblS6",
        "colab_type": "text"
      },
      "source": [
        "Additionally, I choose to use the L2 norm as our loss metric.  Since this is a complex (non-binary and non-multiclass) problem, I believed mse would be the most appropriate in this case."
      ]
    },
    {
      "cell_type": "code",
      "metadata": {
        "id": "PCTwXK9o1q9D",
        "colab_type": "code",
        "colab": {}
      },
      "source": [
        "model.compile(optimizer=tf.keras.optimizers.Adam(learning_rate=0.00005), \n",
        "                  loss='mse')"
      ],
      "execution_count": 0,
      "outputs": []
    },
    {
      "cell_type": "markdown",
      "metadata": {
        "id": "ToMam8weVx73",
        "colab_type": "text"
      },
      "source": [
        "I created my callback to have patience=300, saying that if the validation data isn't lower after 300 epochs, stop the training and reload the minimum weights. "
      ]
    },
    {
      "cell_type": "code",
      "metadata": {
        "id": "KM4SykRb9zIA",
        "colab_type": "code",
        "colab": {}
      },
      "source": [
        "yes = tf.keras.callbacks.EarlyStopping(min_delta = 0, verbose=1, \n",
        "                                       patience=300, mode=\"min\", restore_best_weights=True)"
      ],
      "execution_count": 0,
      "outputs": []
    },
    {
      "cell_type": "markdown",
      "metadata": {
        "id": "V9fVNw4Kb6wD",
        "colab_type": "text"
      },
      "source": [
        "And now we fit our model with batch_size=32.  batch_size is another variable we could likely optimize for our fitting, but for our purposes I kept it fairly low as to prevent overfitting, but not too high to make the fitting process take forever."
      ]
    },
    {
      "cell_type": "code",
      "metadata": {
        "id": "CAHZZOBX952s",
        "colab_type": "code",
        "colab": {}
      },
      "source": [
        "hist = model.fit(Xtrain_scaled, Xtrain_scaled, verbose=1, validation_data=(Xtest_scaled, Xtest_scaled), \n",
        "                 epochs=3000, batch_size=32, callbacks=[yes])"
      ],
      "execution_count": 0,
      "outputs": []
    },
    {
      "cell_type": "code",
      "metadata": {
        "id": "JvE-fWmqVNCA",
        "colab_type": "code",
        "colab": {}
      },
      "source": [
        "model.save_weights(\"ourmod\")"
      ],
      "execution_count": 0,
      "outputs": []
    },
    {
      "cell_type": "code",
      "metadata": {
        "id": "C43MjnxL7eKn",
        "colab_type": "code",
        "outputId": "e7da9dd6-0edf-464e-9e69-b7324e8b3845",
        "colab": {
          "base_uri": "https://localhost:8080/",
          "height": 34
        }
      },
      "source": [
        "model.load_weights(\"ourmod\")  # recovering the model just in case"
      ],
      "execution_count": 0,
      "outputs": [
        {
          "output_type": "execute_result",
          "data": {
            "text/plain": [
              "<tensorflow.python.training.tracking.util.CheckpointLoadStatus at 0x7f7fa5339c88>"
            ]
          },
          "metadata": {
            "tags": []
          },
          "execution_count": 69
        }
      ]
    },
    {
      "cell_type": "markdown",
      "metadata": {
        "id": "Z6SI5iAhC059",
        "colab_type": "text"
      },
      "source": [
        "We plot the training vs validation error to verify that our model converged to where we want:"
      ]
    },
    {
      "cell_type": "code",
      "metadata": {
        "id": "ctIBvnnhkdgG",
        "colab_type": "code",
        "outputId": "2d8a4445-895d-4075-dc50-74a0e22d2535",
        "colab": {
          "base_uri": "https://localhost:8080/",
          "height": 296
        }
      },
      "source": [
        "pl.plot(model.history.history[\"loss\"], label=\"training error\")\n",
        "pl.plot(model.history.history[\"val_loss\"], label=\"validation error\")\n",
        "pl.legend()\n",
        "pl.xlabel(\"epochs\")\n",
        "pl.ylabel(\"MSE\")"
      ],
      "execution_count": 0,
      "outputs": [
        {
          "output_type": "execute_result",
          "data": {
            "text/plain": [
              "Text(0, 0.5, 'MSE')"
            ]
          },
          "metadata": {
            "tags": []
          },
          "execution_count": 66
        },
        {
          "output_type": "display_data",
          "data": {
            "image/png": "[encoded data removed]",
            "text/plain": [
              "<Figure size 432x288 with 1 Axes>"
            ]
          },
          "metadata": {
            "tags": [],
            "needs_background": "light"
          }
        }
      ]
    },
    {
      "cell_type": "markdown",
      "metadata": {
        "id": "A1_nciZqcO9Z",
        "colab_type": "text"
      },
      "source": [
        "Figure 2: Training and Validation MSE error vs the number of epochs.  Although there's a lack of visibility of the validation data going up, by the end it not decrease in value within the last 300 epochs, resulting in the callback to be activated."
      ]
    },
    {
      "cell_type": "code",
      "metadata": {
        "id": "mOtmzPsIE14G",
        "colab_type": "code",
        "colab": {}
      },
      "source": [
        "interps = preprocessing.scale(interp[:, 2:])"
      ],
      "execution_count": 0,
      "outputs": []
    },
    {
      "cell_type": "code",
      "metadata": {
        "id": "LrfIEq2yW1wP",
        "colab_type": "code",
        "outputId": "d3bc93fb-33d8-489b-9218-fdbe5a8b2fca",
        "colab": {
          "base_uri": "https://localhost:8080/",
          "height": 34
        }
      },
      "source": [
        "from keras import backend as K\n",
        "# input placeholder\n",
        "inp = model.input                   \n",
        "# extract the bottle neck outputs\n",
        "outputs = model.layers[4].output     \n",
        "# create a function to evaluate the output of the bottle neck layer for a given input\n",
        "functors = K.function([inp], [outputs])    \n",
        "\n",
        "# Testing\n",
        "layer_outs = functors(interps)"
      ],
      "execution_count": 0,
      "outputs": [
        {
          "output_type": "stream",
          "text": [
            "Using TensorFlow backend.\n"
          ],
          "name": "stderr"
        }
      ]
    },
    {
      "cell_type": "code",
      "metadata": {
        "id": "Z7oLPWZ5EiH4",
        "colab_type": "code",
        "colab": {}
      },
      "source": [
        "tot = pd.DataFrame(layer_outs[0])"
      ],
      "execution_count": 0,
      "outputs": []
    },
    {
      "cell_type": "code",
      "metadata": {
        "id": "q5LkXkxolDJE",
        "colab_type": "code",
        "colab": {}
      },
      "source": [
        "tot.insert(0, \"object_id\", interp[:, 0].astype(int))\n",
        "tot.insert(1, \"passband\", interp[:, 1].astype(int))"
      ],
      "execution_count": 0,
      "outputs": []
    },
    {
      "cell_type": "markdown",
      "metadata": {
        "id": "AZ9uPxIwGpQ-",
        "colab_type": "text"
      },
      "source": [
        "The crazy thing we could do is add 15*6 = 90 new features to each row and do the classification.  I'm not going to do that here, although I don't think it's a completely bad idea.  I choose to take the mean over all passbands, and feed in 15 new features for each object."
      ]
    },
    {
      "cell_type": "code",
      "metadata": {
        "id": "fAUFttFlG3Wa",
        "colab_type": "code",
        "colab": {}
      },
      "source": [
        "before = tot.groupby(\"object_id\").mean()\n",
        "before = before.drop(\"passband\", axis=1)"
      ],
      "execution_count": 0,
      "outputs": []
    },
    {
      "cell_type": "code",
      "metadata": {
        "id": "uPP3Lz5AG6Tx",
        "colab_type": "code",
        "colab": {}
      },
      "source": [
        "after = pd.merge(newfeatures, before, on=\"object_id\")  # our final big matrix"
      ],
      "execution_count": 0,
      "outputs": []
    },
    {
      "cell_type": "markdown",
      "metadata": {
        "id": "fx9NNtW5Jxww",
        "colab_type": "text"
      },
      "source": [
        "# Doing the Gradient Boosted RF"
      ]
    },
    {
      "cell_type": "markdown",
      "metadata": {
        "id": "1cxdAM7PdDOC",
        "colab_type": "text"
      },
      "source": [
        "Now we can redo our classification task for the random forest.  Since we saw a noticable improvement in classification accuracy by splitting the data based on the type of survey (ddf), we will continue to do that for this section."
      ]
    },
    {
      "cell_type": "code",
      "metadata": {
        "id": "Ib74xiNyJ1Mf",
        "colab_type": "code",
        "colab": {}
      },
      "source": [
        "from sklearn.ensemble import RandomForestClassifier\n",
        "from sklearn.model_selection import train_test_split\n",
        "afterafter = after.drop([\"object_id\"], axis=1)\n",
        "allfeat0 = afterafter.loc[allfeatures[\"ddf\"]==0]\n",
        "allfeat1 = afterafter.loc[allfeatures[\"ddf\"]==1]"
      ],
      "execution_count": 0,
      "outputs": []
    },
    {
      "cell_type": "code",
      "metadata": {
        "id": "1IwRb457J7NY",
        "colab_type": "code",
        "colab": {}
      },
      "source": [
        "# features and target for ddf=0\n",
        "X1 = allfeat0.drop(\"target\", axis=1).values\n",
        "y1 = allfeat0[\"target\"].values\n",
        "\n",
        "# features and target for ddf=1\n",
        "X2 = allfeat1.drop(\"target\", axis=1).values\n",
        "y2 = allfeat1[\"target\"].values\n",
        "\n",
        "# our final datasets:\n",
        "X_trdf, X_tedf, y_trdf, y_tedf = train_test_split(X1, y1, test_size=0.2)\n",
        "X_trnorm, X_tenorm, y_trnorm, y_tenorm = train_test_split(X2, y2, test_size=0.2)"
      ],
      "execution_count": 0,
      "outputs": []
    },
    {
      "cell_type": "markdown",
      "metadata": {
        "id": "x-kH7RHOExiG",
        "colab_type": "text"
      },
      "source": [
        "This gradient boosted forest differs from the regular random forest in that it doesn't create a parallel of independent trees--the trees are created in a sequence, and the features/observations are weighted for each tree of the sequence depending on the classification of the last tree.  The term \"Gradient Boosted\" refers to the fact that gradient descent is set up on an optimization problem to determine how to adjust the features and observations for the next step.  "
      ]
    },
    {
      "cell_type": "code",
      "metadata": {
        "id": "fwGDGzkaEucL",
        "colab_type": "code",
        "colab": {}
      },
      "source": [
        "from sklearn.ensemble import GradientBoostingClassifier"
      ],
      "execution_count": 0,
      "outputs": []
    },
    {
      "cell_type": "code",
      "metadata": {
        "id": "pQSmccEvH7gR",
        "colab_type": "code",
        "colab": {}
      },
      "source": [
        "gbdf = GradientBoostingClassifier(max_depth=5)"
      ],
      "execution_count": 0,
      "outputs": []
    },
    {
      "cell_type": "markdown",
      "metadata": {
        "id": "IVya2lkhJBA2",
        "colab_type": "text"
      },
      "source": [
        "Note now that we now have the parameter \"learning rate\" in our gradient boosting classifier, which is indicative of the fact that we're reweighting our features and observations in each step.  In our application, we won't mess with it."
      ]
    },
    {
      "cell_type": "markdown",
      "metadata": {
        "id": "wA4I-2l3JSE7",
        "colab_type": "text"
      },
      "source": [
        "First, for ddf:"
      ]
    },
    {
      "cell_type": "code",
      "metadata": {
        "id": "_EW68OCLJX-N",
        "colab_type": "code",
        "outputId": "28187695-290e-47e2-dbf9-5dea5e700c9d",
        "colab": {
          "base_uri": "https://localhost:8080/",
          "height": 191
        }
      },
      "source": [
        "gbdf.fit(X_trdf, y_trdf)"
      ],
      "execution_count": 0,
      "outputs": [
        {
          "output_type": "execute_result",
          "data": {
            "text/plain": [
              "GradientBoostingClassifier(ccp_alpha=0.0, criterion='friedman_mse', init=None,\n",
              "                           learning_rate=0.1, loss='deviance', max_depth=5,\n",
              "                           max_features=None, max_leaf_nodes=None,\n",
              "                           min_impurity_decrease=0.0, min_impurity_split=None,\n",
              "                           min_samples_leaf=1, min_samples_split=2,\n",
              "                           min_weight_fraction_leaf=0.0, n_estimators=100,\n",
              "                           n_iter_no_change=None, presort='deprecated',\n",
              "                           random_state=None, subsample=1.0, tol=0.0001,\n",
              "                           validation_fraction=0.1, verbose=0,\n",
              "                           warm_start=False)"
            ]
          },
          "metadata": {
            "tags": []
          },
          "execution_count": 85
        }
      ]
    },
    {
      "cell_type": "code",
      "metadata": {
        "id": "vC_lZGTFJbrr",
        "colab_type": "code",
        "outputId": "18e1b5cf-b81a-4471-b3cf-e5ad044d2db9",
        "colab": {
          "base_uri": "https://localhost:8080/",
          "height": 34
        }
      },
      "source": [
        "gbdf.score(X_tedf, y_tedf)"
      ],
      "execution_count": 0,
      "outputs": [
        {
          "output_type": "execute_result",
          "data": {
            "text/plain": [
              "0.6081923419412288"
            ]
          },
          "metadata": {
            "tags": []
          },
          "execution_count": 86
        }
      ]
    },
    {
      "cell_type": "markdown",
      "metadata": {
        "id": "hF4WqtqnLBqX",
        "colab_type": "text"
      },
      "source": [
        "Note: score before was 0.5801.  Now we got a score of 0.6082, a 2.8% improvement.  A lot more tests would have to be done to ensure this isn't just a statistical fluke, but right now it looks good."
      ]
    },
    {
      "cell_type": "markdown",
      "metadata": {
        "id": "f06x1oMQJ4DB",
        "colab_type": "text"
      },
      "source": [
        "And now for normal:"
      ]
    },
    {
      "cell_type": "code",
      "metadata": {
        "id": "2RPmUXqTJWNN",
        "colab_type": "code",
        "colab": {}
      },
      "source": [
        "gbnorm = GradientBoostingClassifier()"
      ],
      "execution_count": 0,
      "outputs": []
    },
    {
      "cell_type": "code",
      "metadata": {
        "id": "DVJjC5JWJ734",
        "colab_type": "code",
        "outputId": "52bea756-be3a-4183-982d-95f485a0504f",
        "colab": {
          "base_uri": "https://localhost:8080/",
          "height": 34
        }
      },
      "source": [
        "gbnorm.fit(X_trnorm, y_trnorm)\n",
        "gbnorm.score(X_tenorm, y_tenorm)"
      ],
      "execution_count": 0,
      "outputs": [
        {
          "output_type": "execute_result",
          "data": {
            "text/plain": [
              "0.6957547169811321"
            ]
          },
          "metadata": {
            "tags": []
          },
          "execution_count": 88
        }
      ]
    },
    {
      "cell_type": "markdown",
      "metadata": {
        "id": "AiwnfTYjLvMx",
        "colab_type": "text"
      },
      "source": [
        "Note, before we got 0.74764.  Now it's 0.6958, a roughly 5% decrease.  Again, I don't know if this is a statistical fluke, and a lot more testing would need to be done to verify this result."
      ]
    },
    {
      "cell_type": "code",
      "metadata": {
        "id": "BrsWqp6dT16c",
        "colab_type": "code",
        "outputId": "aac4b235-e68d-41bb-91fc-ddc342355896",
        "colab": {
          "base_uri": "https://localhost:8080/",
          "height": 52
        }
      },
      "source": [
        "print(\"Gradient Boosted Random Forest Classification\\n\" + \n",
        "       \"score on DDF {:.2f} and on normal survey {:.2f}\".format(\n",
        "           gbdf.score(X_tedf, y_tedf),\n",
        "           gbnorm.score(X_tenorm, y_tenorm)))"
      ],
      "execution_count": 0,
      "outputs": [
        {
          "output_type": "stream",
          "text": [
            "Gradient Boosted Random Forest Classification\n",
            "score on DDF 0.61 and on normal survey 0.70\n"
          ],
          "name": "stdout"
        }
      ]
    },
    {
      "cell_type": "markdown",
      "metadata": {
        "id": "Xa-7QsSYKIiN",
        "colab_type": "text"
      },
      "source": [
        "There are a lot of things that we can adjust in this model that could improve this result.  I want to go over a few things here."
      ]
    },
    {
      "cell_type": "markdown",
      "metadata": {
        "id": "yg_T6Ia7A3X3",
        "colab_type": "text"
      },
      "source": [
        "# Possible Adjustments to the Model"
      ]
    },
    {
      "cell_type": "markdown",
      "metadata": {
        "id": "Aul8NCUl-O80",
        "colab_type": "text"
      },
      "source": [
        "1. Instead of taking the mean over the 6 extracted features in each passband, there are different manipulations on the features that we can do to get more information.  I don't know if taking the mean over the autoencoder features decreased the information the model took, although I suspect it did.  If I were doing this in a kaggle competition, I would likely add all 90 features to the end of each row, then run the autoencoder again to see the results.  If it's too slow or if the results still didn't improve, I would consider a dimensionality reduction technique.  But either way, taking the mean over the features is probably the easiest way to lose signal."
      ]
    },
    {
      "cell_type": "markdown",
      "metadata": {
        "id": "eXBI1KQN-vFQ",
        "colab_type": "text"
      },
      "source": [
        "2. I need to be careful with the Gaussian process curves that I fitted to the objects, as they can produce values that simply aren't right.  For example, looking at object 615:"
      ]
    },
    {
      "cell_type": "code",
      "metadata": {
        "id": "AI5g1SAO-8rh",
        "colab_type": "code",
        "outputId": "ba5de6be-e8a2-46fe-8fda-c5014ab6a843",
        "colab": {
          "base_uri": "https://localhost:8080/",
          "height": 296
        }
      },
      "source": [
        "t = lcvs.loc[(lcvs[\"object_id\"]==615) & (lcvs[\"passband\"]==0)]\n",
        "pl.plot(t[\"mjd\"], t[\"flux\"], '.')\n",
        "pl.ylabel(\"flux\")\n",
        "pl.xlabel(\"mjd\")"
      ],
      "execution_count": 0,
      "outputs": [
        {
          "output_type": "execute_result",
          "data": {
            "text/plain": [
              "Text(0.5, 0, 'mjd')"
            ]
          },
          "metadata": {
            "tags": []
          },
          "execution_count": 145
        },
        {
          "output_type": "display_data",
          "data": {
            "image/png": "[encoded data removed]",
            "text/plain": [
              "<Figure size 432x288 with 1 Axes>"
            ]
          },
          "metadata": {
            "tags": [],
            "needs_background": "light"
          }
        }
      ]
    },
    {
      "cell_type": "markdown",
      "metadata": {
        "id": "Q3uehm2bANf2",
        "colab_type": "text"
      },
      "source": [
        "The Gaussian process for this plot would have been chaotic.  Redoing the Gaussian process fit for this object gives us:"
      ]
    },
    {
      "cell_type": "code",
      "metadata": {
        "colab_type": "code",
        "id": "Y3NFjzitAVkw",
        "colab": {}
      },
      "source": [
        "kernel = ConstantKernel(5) * Matern32Kernel(5)\n",
        "gp = george.GP(kernel)"
      ],
      "execution_count": 0,
      "outputs": []
    },
    {
      "cell_type": "code",
      "metadata": {
        "colab_type": "code",
        "id": "nLBazyvRAVlD",
        "colab": {}
      },
      "source": [
        "y = lcvs.loc[lcvs[\"object_id\"]==615].loc[lcvs[\"passband\"]==2][\"flux\"].values  # our flux value\n",
        "x = lcvs.loc[lcvs[\"object_id\"]==615].loc[lcvs[\"passband\"]==2][\"mjd\"].values   # instead of using mjd, we'll start everything at 0\n",
        "#x = (x- min(x)) /max(x)\n",
        "yerr = lcvs.loc[lcvs[\"object_id\"]==615].loc[lcvs[\"passband\"]==2][\"flux_err\"].values  # our errors for each value"
      ],
      "execution_count": 0,
      "outputs": []
    },
    {
      "cell_type": "code",
      "metadata": {
        "colab_type": "code",
        "id": "RBzJrnAmAVld",
        "colab": {}
      },
      "source": [
        "gp.compute(x, yerr)"
      ],
      "execution_count": 0,
      "outputs": []
    },
    {
      "cell_type": "code",
      "metadata": {
        "colab_type": "code",
        "id": "wyph-HCIAVlj",
        "colab": {}
      },
      "source": [
        "#newx = np.linspace(0, x[-1], 1000)\n",
        "newx = np.linspace(x[0], x[-1], 100)"
      ],
      "execution_count": 0,
      "outputs": []
    },
    {
      "cell_type": "code",
      "metadata": {
        "colab_type": "code",
        "id": "YZc0ueOtAVls",
        "colab": {}
      },
      "source": [
        "def neg_ln_like(p):\n",
        "    gp.set_parameter_vector(p)\n",
        "    return -gp.log_likelihood(y)\n",
        "\n",
        "def grad_neg_ln_like(p):\n",
        "    gp.set_parameter_vector(p)\n",
        "    return -gp.grad_log_likelihood(y)\n",
        "result = minimize(neg_ln_like, gp.get_parameter_vector(), jac=grad_neg_ln_like)\n",
        "gp.set_parameter_vector(result.x)"
      ],
      "execution_count": 0,
      "outputs": []
    },
    {
      "cell_type": "code",
      "metadata": {
        "colab_type": "code",
        "id": "0MN5l_lzAVl0",
        "colab": {}
      },
      "source": [
        "f, sig = gp.predict(y, newx, return_var=True)"
      ],
      "execution_count": 0,
      "outputs": []
    },
    {
      "cell_type": "code",
      "metadata": {
        "colab_type": "code",
        "outputId": "5b8cc489-bcf8-46f2-963a-98483870dd62",
        "id": "HH3JLNfFAVl9",
        "colab": {
          "base_uri": "https://localhost:8080/",
          "height": 282
        }
      },
      "source": [
        "pl.plot(newx, f)\n",
        "pl.fill_between(newx, f - np.sqrt(sig), f + np.sqrt(sig), alpha=0.5);\n",
        "pl.plot(x, y, '.')"
      ],
      "execution_count": 0,
      "outputs": [
        {
          "output_type": "execute_result",
          "data": {
            "text/plain": [
              "[<matplotlib.lines.Line2D at 0x7f7f6e1305f8>]"
            ]
          },
          "metadata": {
            "tags": []
          },
          "execution_count": 144
        },
        {
          "output_type": "display_data",
          "data": {
            "image/png": "[encoded data removed]",
            "text/plain": [
              "<Figure size 432x288 with 1 Axes>"
            ]
          },
          "metadata": {
            "tags": [],
            "needs_background": "light"
          }
        }
      ]
    },
    {
      "cell_type": "markdown",
      "metadata": {
        "id": "Fr9RfyCsAk4f",
        "colab_type": "text"
      },
      "source": [
        "And in my analysis, I evenly sampled each fitted Gaussian process.  There's obviously a better way to sample these instead of the naive way that I did, and I strongly believe this could have affected the outcome."
      ]
    },
    {
      "cell_type": "markdown",
      "metadata": {
        "id": "y6Q4-ovCBc4M",
        "colab_type": "text"
      },
      "source": [
        "3. The hyperparameters of the autoencoder of course should also be manipulated.  For this case, I evenly extracted 100 points from each Gaussian process, resulting in an inputdim=100 for our autoencoder.  I might have been advised to extract 1000 points, then decrease the layers until the bottleneck was 100 neurons.  Any of these choices might affect the outcome of our model."
      ]
    },
    {
      "cell_type": "markdown",
      "metadata": {
        "id": "fR_fiISDB008",
        "colab_type": "text"
      },
      "source": [
        "Overall, although my added features didn't improve the model, I don't think that's the end of the story.  There are so many options we can take to adjust and optimize this model."
      ]
    }
  ]
}